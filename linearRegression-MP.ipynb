{
 "cells": [
  {
   "cell_type": "code",
   "execution_count": 1,
   "id": "67d129b9",
   "metadata": {
    "_cell_guid": "b1076dfc-b9ad-4769-8c92-a6c4dae69d19",
    "_uuid": "8f2839f25d086af736a60e9eeb907d3b93b6e0e5",
    "execution": {
     "iopub.execute_input": "2023-09-06T16:16:07.107105Z",
     "iopub.status.busy": "2023-09-06T16:16:07.106506Z",
     "iopub.status.idle": "2023-09-06T16:16:09.249243Z",
     "shell.execute_reply": "2023-09-06T16:16:09.247536Z"
    },
    "papermill": {
     "duration": 2.160657,
     "end_time": "2023-09-06T16:16:09.253279",
     "exception": false,
     "start_time": "2023-09-06T16:16:07.092622",
     "status": "completed"
    },
    "tags": []
   },
   "outputs": [],
   "source": [
    "import numpy as np\n",
    "import pandas as pd \n",
    "import matplotlib.pyplot as plt\n",
    "from sklearn.metrics import r2_score\n",
    "from sklearn.model_selection import train_test_split \n",
    "from sklearn.linear_model import LinearRegression \n",
    "from sklearn.metrics import mean_absolute_error"
   ]
  },
  {
   "cell_type": "code",
   "execution_count": 2,
   "id": "b67c756c",
   "metadata": {
    "execution": {
     "iopub.execute_input": "2023-09-06T16:16:09.277244Z",
     "iopub.status.busy": "2023-09-06T16:16:09.276567Z",
     "iopub.status.idle": "2023-09-06T16:16:09.324594Z",
     "shell.execute_reply": "2023-09-06T16:16:09.323157Z"
    },
    "papermill": {
     "duration": 0.063443,
     "end_time": "2023-09-06T16:16:09.327746",
     "exception": false,
     "start_time": "2023-09-06T16:16:09.264303",
     "status": "completed"
    },
    "tags": []
   },
   "outputs": [],
   "source": [
    "df = pd.read_csv(\"/kaggle/input/movie-predict/data/data_unnoise.csv\")"
   ]
  },
  {
   "cell_type": "code",
   "execution_count": 3,
   "id": "c91d7d1f",
   "metadata": {
    "execution": {
     "iopub.execute_input": "2023-09-06T16:16:09.352430Z",
     "iopub.status.busy": "2023-09-06T16:16:09.351297Z",
     "iopub.status.idle": "2023-09-06T16:16:09.360603Z",
     "shell.execute_reply": "2023-09-06T16:16:09.359630Z"
    },
    "papermill": {
     "duration": 0.025591,
     "end_time": "2023-09-06T16:16:09.363503",
     "exception": false,
     "start_time": "2023-09-06T16:16:09.337912",
     "status": "completed"
    },
    "tags": []
   },
   "outputs": [
    {
     "data": {
      "text/plain": [
       "5374"
      ]
     },
     "execution_count": 3,
     "metadata": {},
     "output_type": "execute_result"
    }
   ],
   "source": [
    "len(df)"
   ]
  },
  {
   "cell_type": "code",
   "execution_count": 4,
   "id": "0a1e81d2",
   "metadata": {
    "execution": {
     "iopub.execute_input": "2023-09-06T16:16:09.387748Z",
     "iopub.status.busy": "2023-09-06T16:16:09.386792Z",
     "iopub.status.idle": "2023-09-06T16:16:09.432367Z",
     "shell.execute_reply": "2023-09-06T16:16:09.430995Z"
    },
    "papermill": {
     "duration": 0.060791,
     "end_time": "2023-09-06T16:16:09.435969",
     "exception": false,
     "start_time": "2023-09-06T16:16:09.375178",
     "status": "completed"
    },
    "tags": []
   },
   "outputs": [
    {
     "data": {
      "text/html": [
       "<div>\n",
       "<style scoped>\n",
       "    .dataframe tbody tr th:only-of-type {\n",
       "        vertical-align: middle;\n",
       "    }\n",
       "\n",
       "    .dataframe tbody tr th {\n",
       "        vertical-align: top;\n",
       "    }\n",
       "\n",
       "    .dataframe thead th {\n",
       "        text-align: right;\n",
       "    }\n",
       "</style>\n",
       "<table border=\"1\" class=\"dataframe\">\n",
       "  <thead>\n",
       "    <tr style=\"text-align: right;\">\n",
       "      <th></th>\n",
       "      <th>budget</th>\n",
       "      <th>genres</th>\n",
       "      <th>homepage</th>\n",
       "      <th>popularity</th>\n",
       "      <th>production_companies</th>\n",
       "      <th>production_countries</th>\n",
       "      <th>runtime</th>\n",
       "      <th>spoken_languages</th>\n",
       "      <th>vote_average</th>\n",
       "      <th>vote_count</th>\n",
       "      <th>lang_english</th>\n",
       "      <th>year</th>\n",
       "      <th>holiday</th>\n",
       "      <th>revenue</th>\n",
       "    </tr>\n",
       "  </thead>\n",
       "  <tbody>\n",
       "    <tr>\n",
       "      <th>0</th>\n",
       "      <td>30000000</td>\n",
       "      <td>3</td>\n",
       "      <td>1</td>\n",
       "      <td>21.946943</td>\n",
       "      <td>1</td>\n",
       "      <td>1</td>\n",
       "      <td>81.0</td>\n",
       "      <td>1</td>\n",
       "      <td>7.7</td>\n",
       "      <td>5415</td>\n",
       "      <td>1</td>\n",
       "      <td>1995</td>\n",
       "      <td>1</td>\n",
       "      <td>373554033</td>\n",
       "    </tr>\n",
       "    <tr>\n",
       "      <th>1</th>\n",
       "      <td>65000000</td>\n",
       "      <td>3</td>\n",
       "      <td>0</td>\n",
       "      <td>17.015539</td>\n",
       "      <td>3</td>\n",
       "      <td>1</td>\n",
       "      <td>104.0</td>\n",
       "      <td>2</td>\n",
       "      <td>6.9</td>\n",
       "      <td>2413</td>\n",
       "      <td>1</td>\n",
       "      <td>1995</td>\n",
       "      <td>1</td>\n",
       "      <td>262797249</td>\n",
       "    </tr>\n",
       "    <tr>\n",
       "      <th>2</th>\n",
       "      <td>16000000</td>\n",
       "      <td>3</td>\n",
       "      <td>0</td>\n",
       "      <td>3.859495</td>\n",
       "      <td>1</td>\n",
       "      <td>1</td>\n",
       "      <td>127.0</td>\n",
       "      <td>1</td>\n",
       "      <td>6.1</td>\n",
       "      <td>34</td>\n",
       "      <td>1</td>\n",
       "      <td>1995</td>\n",
       "      <td>1</td>\n",
       "      <td>81452156</td>\n",
       "    </tr>\n",
       "    <tr>\n",
       "      <th>3</th>\n",
       "      <td>60000000</td>\n",
       "      <td>4</td>\n",
       "      <td>0</td>\n",
       "      <td>17.924927</td>\n",
       "      <td>3</td>\n",
       "      <td>1</td>\n",
       "      <td>170.0</td>\n",
       "      <td>2</td>\n",
       "      <td>7.7</td>\n",
       "      <td>1886</td>\n",
       "      <td>1</td>\n",
       "      <td>1995</td>\n",
       "      <td>1</td>\n",
       "      <td>187436818</td>\n",
       "    </tr>\n",
       "    <tr>\n",
       "      <th>4</th>\n",
       "      <td>35000000</td>\n",
       "      <td>3</td>\n",
       "      <td>0</td>\n",
       "      <td>5.231580</td>\n",
       "      <td>3</td>\n",
       "      <td>1</td>\n",
       "      <td>106.0</td>\n",
       "      <td>1</td>\n",
       "      <td>5.5</td>\n",
       "      <td>174</td>\n",
       "      <td>1</td>\n",
       "      <td>1995</td>\n",
       "      <td>1</td>\n",
       "      <td>64350171</td>\n",
       "    </tr>\n",
       "    <tr>\n",
       "      <th>...</th>\n",
       "      <td>...</td>\n",
       "      <td>...</td>\n",
       "      <td>...</td>\n",
       "      <td>...</td>\n",
       "      <td>...</td>\n",
       "      <td>...</td>\n",
       "      <td>...</td>\n",
       "      <td>...</td>\n",
       "      <td>...</td>\n",
       "      <td>...</td>\n",
       "      <td>...</td>\n",
       "      <td>...</td>\n",
       "      <td>...</td>\n",
       "      <td>...</td>\n",
       "    </tr>\n",
       "    <tr>\n",
       "      <th>5369</th>\n",
       "      <td>12000000</td>\n",
       "      <td>3</td>\n",
       "      <td>0</td>\n",
       "      <td>1.323587</td>\n",
       "      <td>1</td>\n",
       "      <td>1</td>\n",
       "      <td>185.0</td>\n",
       "      <td>2</td>\n",
       "      <td>6.9</td>\n",
       "      <td>25</td>\n",
       "      <td>0</td>\n",
       "      <td>2007</td>\n",
       "      <td>1</td>\n",
       "      <td>19000000</td>\n",
       "    </tr>\n",
       "    <tr>\n",
       "      <th>5370</th>\n",
       "      <td>750000</td>\n",
       "      <td>2</td>\n",
       "      <td>0</td>\n",
       "      <td>0.201582</td>\n",
       "      <td>2</td>\n",
       "      <td>1</td>\n",
       "      <td>0.0</td>\n",
       "      <td>1</td>\n",
       "      <td>6.0</td>\n",
       "      <td>4</td>\n",
       "      <td>0</td>\n",
       "      <td>2014</td>\n",
       "      <td>1</td>\n",
       "      <td>3</td>\n",
       "    </tr>\n",
       "    <tr>\n",
       "      <th>5371</th>\n",
       "      <td>800000</td>\n",
       "      <td>2</td>\n",
       "      <td>0</td>\n",
       "      <td>0.903061</td>\n",
       "      <td>0</td>\n",
       "      <td>0</td>\n",
       "      <td>100.0</td>\n",
       "      <td>1</td>\n",
       "      <td>5.8</td>\n",
       "      <td>6</td>\n",
       "      <td>1</td>\n",
       "      <td>2006</td>\n",
       "      <td>1</td>\n",
       "      <td>1328612</td>\n",
       "    </tr>\n",
       "    <tr>\n",
       "      <th>5372</th>\n",
       "      <td>2000000</td>\n",
       "      <td>2</td>\n",
       "      <td>0</td>\n",
       "      <td>0.121844</td>\n",
       "      <td>1</td>\n",
       "      <td>1</td>\n",
       "      <td>107.0</td>\n",
       "      <td>1</td>\n",
       "      <td>4.0</td>\n",
       "      <td>3</td>\n",
       "      <td>1</td>\n",
       "      <td>2010</td>\n",
       "      <td>0</td>\n",
       "      <td>1268793</td>\n",
       "    </tr>\n",
       "    <tr>\n",
       "      <th>5373</th>\n",
       "      <td>5000000</td>\n",
       "      <td>4</td>\n",
       "      <td>0</td>\n",
       "      <td>0.039793</td>\n",
       "      <td>0</td>\n",
       "      <td>1</td>\n",
       "      <td>91.0</td>\n",
       "      <td>1</td>\n",
       "      <td>1.0</td>\n",
       "      <td>1</td>\n",
       "      <td>0</td>\n",
       "      <td>2007</td>\n",
       "      <td>0</td>\n",
       "      <td>1413000</td>\n",
       "    </tr>\n",
       "  </tbody>\n",
       "</table>\n",
       "<p>5374 rows × 14 columns</p>\n",
       "</div>"
      ],
      "text/plain": [
       "        budget  genres  homepage  popularity  production_companies  \\\n",
       "0     30000000       3         1   21.946943                     1   \n",
       "1     65000000       3         0   17.015539                     3   \n",
       "2     16000000       3         0    3.859495                     1   \n",
       "3     60000000       4         0   17.924927                     3   \n",
       "4     35000000       3         0    5.231580                     3   \n",
       "...        ...     ...       ...         ...                   ...   \n",
       "5369  12000000       3         0    1.323587                     1   \n",
       "5370    750000       2         0    0.201582                     2   \n",
       "5371    800000       2         0    0.903061                     0   \n",
       "5372   2000000       2         0    0.121844                     1   \n",
       "5373   5000000       4         0    0.039793                     0   \n",
       "\n",
       "      production_countries  runtime  spoken_languages  vote_average  \\\n",
       "0                        1     81.0                 1           7.7   \n",
       "1                        1    104.0                 2           6.9   \n",
       "2                        1    127.0                 1           6.1   \n",
       "3                        1    170.0                 2           7.7   \n",
       "4                        1    106.0                 1           5.5   \n",
       "...                    ...      ...               ...           ...   \n",
       "5369                     1    185.0                 2           6.9   \n",
       "5370                     1      0.0                 1           6.0   \n",
       "5371                     0    100.0                 1           5.8   \n",
       "5372                     1    107.0                 1           4.0   \n",
       "5373                     1     91.0                 1           1.0   \n",
       "\n",
       "      vote_count  lang_english  year  holiday    revenue  \n",
       "0           5415             1  1995        1  373554033  \n",
       "1           2413             1  1995        1  262797249  \n",
       "2             34             1  1995        1   81452156  \n",
       "3           1886             1  1995        1  187436818  \n",
       "4            174             1  1995        1   64350171  \n",
       "...          ...           ...   ...      ...        ...  \n",
       "5369          25             0  2007        1   19000000  \n",
       "5370           4             0  2014        1          3  \n",
       "5371           6             1  2006        1    1328612  \n",
       "5372           3             1  2010        0    1268793  \n",
       "5373           1             0  2007        0    1413000  \n",
       "\n",
       "[5374 rows x 14 columns]"
      ]
     },
     "execution_count": 4,
     "metadata": {},
     "output_type": "execute_result"
    }
   ],
   "source": [
    "df"
   ]
  },
  {
   "cell_type": "code",
   "execution_count": 5,
   "id": "d9656881",
   "metadata": {
    "execution": {
     "iopub.execute_input": "2023-09-06T16:16:09.460269Z",
     "iopub.status.busy": "2023-09-06T16:16:09.459513Z",
     "iopub.status.idle": "2023-09-06T16:16:09.466611Z",
     "shell.execute_reply": "2023-09-06T16:16:09.465435Z"
    },
    "papermill": {
     "duration": 0.022716,
     "end_time": "2023-09-06T16:16:09.469345",
     "exception": false,
     "start_time": "2023-09-06T16:16:09.446629",
     "status": "completed"
    },
    "tags": []
   },
   "outputs": [
    {
     "data": {
      "text/plain": [
       "Index(['budget', 'genres', 'homepage', 'popularity', 'production_companies',\n",
       "       'production_countries', 'runtime', 'spoken_languages', 'vote_average',\n",
       "       'vote_count', 'lang_english', 'year', 'holiday', 'revenue'],\n",
       "      dtype='object')"
      ]
     },
     "execution_count": 5,
     "metadata": {},
     "output_type": "execute_result"
    }
   ],
   "source": [
    "df.columns"
   ]
  },
  {
   "cell_type": "code",
   "execution_count": 6,
   "id": "76d042f2",
   "metadata": {
    "execution": {
     "iopub.execute_input": "2023-09-06T16:16:09.493828Z",
     "iopub.status.busy": "2023-09-06T16:16:09.492555Z",
     "iopub.status.idle": "2023-09-06T16:16:09.503827Z",
     "shell.execute_reply": "2023-09-06T16:16:09.502274Z"
    },
    "papermill": {
     "duration": 0.027121,
     "end_time": "2023-09-06T16:16:09.507098",
     "exception": false,
     "start_time": "2023-09-06T16:16:09.479977",
     "status": "completed"
    },
    "tags": []
   },
   "outputs": [],
   "source": [
    "X, y = df.drop('revenue', axis=1), df['revenue']"
   ]
  },
  {
   "cell_type": "code",
   "execution_count": 7,
   "id": "d2879ea7",
   "metadata": {
    "execution": {
     "iopub.execute_input": "2023-09-06T16:16:09.531673Z",
     "iopub.status.busy": "2023-09-06T16:16:09.531160Z",
     "iopub.status.idle": "2023-09-06T16:16:09.542664Z",
     "shell.execute_reply": "2023-09-06T16:16:09.541087Z"
    },
    "papermill": {
     "duration": 0.02803,
     "end_time": "2023-09-06T16:16:09.545812",
     "exception": false,
     "start_time": "2023-09-06T16:16:09.517782",
     "status": "completed"
    },
    "tags": []
   },
   "outputs": [],
   "source": [
    "X_train, X_test, y_train, y_test = train_test_split(X, y, train_size=0.8, test_size=0.2)"
   ]
  },
  {
   "cell_type": "code",
   "execution_count": 8,
   "id": "446e190b",
   "metadata": {
    "execution": {
     "iopub.execute_input": "2023-09-06T16:16:09.571658Z",
     "iopub.status.busy": "2023-09-06T16:16:09.571072Z",
     "iopub.status.idle": "2023-09-06T16:16:09.578594Z",
     "shell.execute_reply": "2023-09-06T16:16:09.576819Z"
    },
    "papermill": {
     "duration": 0.02617,
     "end_time": "2023-09-06T16:16:09.582995",
     "exception": false,
     "start_time": "2023-09-06T16:16:09.556825",
     "status": "completed"
    },
    "tags": []
   },
   "outputs": [
    {
     "name": "stdout",
     "output_type": "stream",
     "text": [
      "Length of train set: 4299\n",
      "Length of test set: 1075\n"
     ]
    }
   ],
   "source": [
    "print(f\"Length of train set: {len(X_train)}\")\n",
    "\n",
    "print(f\"Length of test set: {len(X_test)}\")"
   ]
  },
  {
   "cell_type": "code",
   "execution_count": 9,
   "id": "36ab7a30",
   "metadata": {
    "execution": {
     "iopub.execute_input": "2023-09-06T16:16:09.610810Z",
     "iopub.status.busy": "2023-09-06T16:16:09.610328Z",
     "iopub.status.idle": "2023-09-06T16:16:09.615731Z",
     "shell.execute_reply": "2023-09-06T16:16:09.614294Z"
    },
    "papermill": {
     "duration": 0.022654,
     "end_time": "2023-09-06T16:16:09.618554",
     "exception": false,
     "start_time": "2023-09-06T16:16:09.595900",
     "status": "completed"
    },
    "tags": []
   },
   "outputs": [],
   "source": [
    "lr_model = LinearRegression()"
   ]
  },
  {
   "cell_type": "code",
   "execution_count": 10,
   "id": "54dc5067",
   "metadata": {
    "execution": {
     "iopub.execute_input": "2023-09-06T16:16:09.644063Z",
     "iopub.status.busy": "2023-09-06T16:16:09.643084Z",
     "iopub.status.idle": "2023-09-06T16:16:09.697488Z",
     "shell.execute_reply": "2023-09-06T16:16:09.695471Z"
    },
    "papermill": {
     "duration": 0.072301,
     "end_time": "2023-09-06T16:16:09.702896",
     "exception": false,
     "start_time": "2023-09-06T16:16:09.630595",
     "status": "completed"
    },
    "tags": []
   },
   "outputs": [
    {
     "data": {
      "text/html": [
       "<style>#sk-container-id-1 {color: black;background-color: white;}#sk-container-id-1 pre{padding: 0;}#sk-container-id-1 div.sk-toggleable {background-color: white;}#sk-container-id-1 label.sk-toggleable__label {cursor: pointer;display: block;width: 100%;margin-bottom: 0;padding: 0.3em;box-sizing: border-box;text-align: center;}#sk-container-id-1 label.sk-toggleable__label-arrow:before {content: \"▸\";float: left;margin-right: 0.25em;color: #696969;}#sk-container-id-1 label.sk-toggleable__label-arrow:hover:before {color: black;}#sk-container-id-1 div.sk-estimator:hover label.sk-toggleable__label-arrow:before {color: black;}#sk-container-id-1 div.sk-toggleable__content {max-height: 0;max-width: 0;overflow: hidden;text-align: left;background-color: #f0f8ff;}#sk-container-id-1 div.sk-toggleable__content pre {margin: 0.2em;color: black;border-radius: 0.25em;background-color: #f0f8ff;}#sk-container-id-1 input.sk-toggleable__control:checked~div.sk-toggleable__content {max-height: 200px;max-width: 100%;overflow: auto;}#sk-container-id-1 input.sk-toggleable__control:checked~label.sk-toggleable__label-arrow:before {content: \"▾\";}#sk-container-id-1 div.sk-estimator input.sk-toggleable__control:checked~label.sk-toggleable__label {background-color: #d4ebff;}#sk-container-id-1 div.sk-label input.sk-toggleable__control:checked~label.sk-toggleable__label {background-color: #d4ebff;}#sk-container-id-1 input.sk-hidden--visually {border: 0;clip: rect(1px 1px 1px 1px);clip: rect(1px, 1px, 1px, 1px);height: 1px;margin: -1px;overflow: hidden;padding: 0;position: absolute;width: 1px;}#sk-container-id-1 div.sk-estimator {font-family: monospace;background-color: #f0f8ff;border: 1px dotted black;border-radius: 0.25em;box-sizing: border-box;margin-bottom: 0.5em;}#sk-container-id-1 div.sk-estimator:hover {background-color: #d4ebff;}#sk-container-id-1 div.sk-parallel-item::after {content: \"\";width: 100%;border-bottom: 1px solid gray;flex-grow: 1;}#sk-container-id-1 div.sk-label:hover label.sk-toggleable__label {background-color: #d4ebff;}#sk-container-id-1 div.sk-serial::before {content: \"\";position: absolute;border-left: 1px solid gray;box-sizing: border-box;top: 0;bottom: 0;left: 50%;z-index: 0;}#sk-container-id-1 div.sk-serial {display: flex;flex-direction: column;align-items: center;background-color: white;padding-right: 0.2em;padding-left: 0.2em;position: relative;}#sk-container-id-1 div.sk-item {position: relative;z-index: 1;}#sk-container-id-1 div.sk-parallel {display: flex;align-items: stretch;justify-content: center;background-color: white;position: relative;}#sk-container-id-1 div.sk-item::before, #sk-container-id-1 div.sk-parallel-item::before {content: \"\";position: absolute;border-left: 1px solid gray;box-sizing: border-box;top: 0;bottom: 0;left: 50%;z-index: -1;}#sk-container-id-1 div.sk-parallel-item {display: flex;flex-direction: column;z-index: 1;position: relative;background-color: white;}#sk-container-id-1 div.sk-parallel-item:first-child::after {align-self: flex-end;width: 50%;}#sk-container-id-1 div.sk-parallel-item:last-child::after {align-self: flex-start;width: 50%;}#sk-container-id-1 div.sk-parallel-item:only-child::after {width: 0;}#sk-container-id-1 div.sk-dashed-wrapped {border: 1px dashed gray;margin: 0 0.4em 0.5em 0.4em;box-sizing: border-box;padding-bottom: 0.4em;background-color: white;}#sk-container-id-1 div.sk-label label {font-family: monospace;font-weight: bold;display: inline-block;line-height: 1.2em;}#sk-container-id-1 div.sk-label-container {text-align: center;}#sk-container-id-1 div.sk-container {/* jupyter's `normalize.less` sets `[hidden] { display: none; }` but bootstrap.min.css set `[hidden] { display: none !important; }` so we also need the `!important` here to be able to override the default hidden behavior on the sphinx rendered scikit-learn.org. See: https://github.com/scikit-learn/scikit-learn/issues/21755 */display: inline-block !important;position: relative;}#sk-container-id-1 div.sk-text-repr-fallback {display: none;}</style><div id=\"sk-container-id-1\" class=\"sk-top-container\"><div class=\"sk-text-repr-fallback\"><pre>LinearRegression()</pre><b>In a Jupyter environment, please rerun this cell to show the HTML representation or trust the notebook. <br />On GitHub, the HTML representation is unable to render, please try loading this page with nbviewer.org.</b></div><div class=\"sk-container\" hidden><div class=\"sk-item\"><div class=\"sk-estimator sk-toggleable\"><input class=\"sk-toggleable__control sk-hidden--visually\" id=\"sk-estimator-id-1\" type=\"checkbox\" checked><label for=\"sk-estimator-id-1\" class=\"sk-toggleable__label sk-toggleable__label-arrow\">LinearRegression</label><div class=\"sk-toggleable__content\"><pre>LinearRegression()</pre></div></div></div></div></div>"
      ],
      "text/plain": [
       "LinearRegression()"
      ]
     },
     "execution_count": 10,
     "metadata": {},
     "output_type": "execute_result"
    }
   ],
   "source": [
    "lr_model.fit(X_train, y_train)"
   ]
  },
  {
   "cell_type": "code",
   "execution_count": 11,
   "id": "099a991e",
   "metadata": {
    "execution": {
     "iopub.execute_input": "2023-09-06T16:16:09.756641Z",
     "iopub.status.busy": "2023-09-06T16:16:09.754648Z",
     "iopub.status.idle": "2023-09-06T16:16:09.781323Z",
     "shell.execute_reply": "2023-09-06T16:16:09.776829Z"
    },
    "papermill": {
     "duration": 0.059331,
     "end_time": "2023-09-06T16:16:09.787403",
     "exception": false,
     "start_time": "2023-09-06T16:16:09.728072",
     "status": "completed"
    },
    "tags": []
   },
   "outputs": [],
   "source": [
    "predict_test_lr = lr_model.predict(X_test)"
   ]
  },
  {
   "cell_type": "code",
   "execution_count": 12,
   "id": "13c5be42",
   "metadata": {
    "execution": {
     "iopub.execute_input": "2023-09-06T16:16:09.838988Z",
     "iopub.status.busy": "2023-09-06T16:16:09.838174Z",
     "iopub.status.idle": "2023-09-06T16:16:09.858744Z",
     "shell.execute_reply": "2023-09-06T16:16:09.857051Z"
    },
    "papermill": {
     "duration": 0.052917,
     "end_time": "2023-09-06T16:16:09.865230",
     "exception": false,
     "start_time": "2023-09-06T16:16:09.812313",
     "status": "completed"
    },
    "tags": []
   },
   "outputs": [
    {
     "name": "stdout",
     "output_type": "stream",
     "text": [
      "Test score of linear regression: 0.7097508083164337\n"
     ]
    }
   ],
   "source": [
    "test_score_lr = lr_model.score(X_test, y_test)\n",
    "print(f'Test score of linear regression: {test_score_lr}')"
   ]
  },
  {
   "cell_type": "code",
   "execution_count": 13,
   "id": "8ed9820a",
   "metadata": {
    "execution": {
     "iopub.execute_input": "2023-09-06T16:16:09.918617Z",
     "iopub.status.busy": "2023-09-06T16:16:09.917756Z",
     "iopub.status.idle": "2023-09-06T16:16:10.419870Z",
     "shell.execute_reply": "2023-09-06T16:16:10.418335Z"
    },
    "papermill": {
     "duration": 0.532838,
     "end_time": "2023-09-06T16:16:10.423535",
     "exception": false,
     "start_time": "2023-09-06T16:16:09.890697",
     "status": "completed"
    },
    "tags": []
   },
   "outputs": [
    {
     "data": {
      "text/plain": [
       "[<matplotlib.lines.Line2D at 0x7df14d4fdc00>]"
      ]
     },
     "execution_count": 13,
     "metadata": {},
     "output_type": "execute_result"
    },
    {
     "data": {
      "image/png": "[encoded data removed]",
      "text/plain": [
       "<Figure size 640x480 with 1 Axes>"
      ]
     },
     "metadata": {},
     "output_type": "display_data"
    }
   ],
   "source": [
    "plt.scatter(y_test, predict_test_lr, alpha=0.3)\n",
    "plt.plot([1, 1000000000], [1, 1000000000], color='blue')"
   ]
  },
  {
   "cell_type": "code",
   "execution_count": 14,
   "id": "4bbf61d0",
   "metadata": {
    "execution": {
     "iopub.execute_input": "2023-09-06T16:16:10.451929Z",
     "iopub.status.busy": "2023-09-06T16:16:10.451456Z",
     "iopub.status.idle": "2023-09-06T16:16:10.458308Z",
     "shell.execute_reply": "2023-09-06T16:16:10.456850Z"
    },
    "papermill": {
     "duration": 0.024877,
     "end_time": "2023-09-06T16:16:10.461845",
     "exception": false,
     "start_time": "2023-09-06T16:16:10.436968",
     "status": "completed"
    },
    "tags": []
   },
   "outputs": [
    {
     "name": "stdout",
     "output_type": "stream",
     "text": [
      "1075\n",
      "1075\n"
     ]
    }
   ],
   "source": [
    "print(len(y_test))\n",
    "\n",
    "print(len(predict_test_lr))"
   ]
  },
  {
   "cell_type": "code",
   "execution_count": 15,
   "id": "6411cac1",
   "metadata": {
    "execution": {
     "iopub.execute_input": "2023-09-06T16:16:10.490748Z",
     "iopub.status.busy": "2023-09-06T16:16:10.490297Z",
     "iopub.status.idle": "2023-09-06T16:16:10.497579Z",
     "shell.execute_reply": "2023-09-06T16:16:10.495682Z"
    },
    "papermill": {
     "duration": 0.026032,
     "end_time": "2023-09-06T16:16:10.501157",
     "exception": false,
     "start_time": "2023-09-06T16:16:10.475125",
     "status": "completed"
    },
    "tags": []
   },
   "outputs": [],
   "source": [
    "def getMAE(real, predict):\n",
    "\n",
    "    sum = 0\n",
    "\n",
    "    length = len(real)\n",
    "\n",
    "    for i in range(length):\n",
    "        sum += np.absolute(real[i] - predict[i])\n",
    "        \n",
    "    return sum / length"
   ]
  },
  {
   "cell_type": "code",
   "execution_count": 16,
   "id": "dd0cc040",
   "metadata": {
    "execution": {
     "iopub.execute_input": "2023-09-06T16:16:10.528399Z",
     "iopub.status.busy": "2023-09-06T16:16:10.527895Z",
     "iopub.status.idle": "2023-09-06T16:16:10.533964Z",
     "shell.execute_reply": "2023-09-06T16:16:10.532649Z"
    },
    "papermill": {
     "duration": 0.022882,
     "end_time": "2023-09-06T16:16:10.536658",
     "exception": false,
     "start_time": "2023-09-06T16:16:10.513776",
     "status": "completed"
    },
    "tags": []
   },
   "outputs": [],
   "source": [
    "x = np.arange(0, 100, 1, dtype=None)"
   ]
  },
  {
   "cell_type": "code",
   "execution_count": 17,
   "id": "12694747",
   "metadata": {
    "execution": {
     "iopub.execute_input": "2023-09-06T16:16:10.564288Z",
     "iopub.status.busy": "2023-09-06T16:16:10.563773Z",
     "iopub.status.idle": "2023-09-06T16:16:10.571297Z",
     "shell.execute_reply": "2023-09-06T16:16:10.570137Z"
    },
    "papermill": {
     "duration": 0.023671,
     "end_time": "2023-09-06T16:16:10.573790",
     "exception": false,
     "start_time": "2023-09-06T16:16:10.550119",
     "status": "completed"
    },
    "tags": []
   },
   "outputs": [],
   "source": [
    "X_train = X_train[:100]\n",
    "X_test = X_test[:100]\n",
    "y_train = y_train[:100]\n",
    "y_test = y_test[:100]\n",
    "predict_test_lr = predict_test_lr[:100]\n",
    "predict_train_lr = predict_test_lr[:100]"
   ]
  },
  {
   "cell_type": "code",
   "execution_count": 18,
   "id": "37fb1655",
   "metadata": {
    "execution": {
     "iopub.execute_input": "2023-09-06T16:16:10.602087Z",
     "iopub.status.busy": "2023-09-06T16:16:10.601627Z",
     "iopub.status.idle": "2023-09-06T16:16:10.614461Z",
     "shell.execute_reply": "2023-09-06T16:16:10.613135Z"
    },
    "papermill": {
     "duration": 0.03097,
     "end_time": "2023-09-06T16:16:10.617696",
     "exception": false,
     "start_time": "2023-09-06T16:16:10.586726",
     "status": "completed"
    },
    "tags": []
   },
   "outputs": [
    {
     "data": {
      "text/html": [
       "<div>\n",
       "<style scoped>\n",
       "    .dataframe tbody tr th:only-of-type {\n",
       "        vertical-align: middle;\n",
       "    }\n",
       "\n",
       "    .dataframe tbody tr th {\n",
       "        vertical-align: top;\n",
       "    }\n",
       "\n",
       "    .dataframe thead th {\n",
       "        text-align: right;\n",
       "    }\n",
       "</style>\n",
       "<table border=\"1\" class=\"dataframe\">\n",
       "  <thead>\n",
       "    <tr style=\"text-align: right;\">\n",
       "      <th></th>\n",
       "      <th>index</th>\n",
       "      <th>revenue_pred</th>\n",
       "    </tr>\n",
       "  </thead>\n",
       "  <tbody>\n",
       "    <tr>\n",
       "      <th>0</th>\n",
       "      <td>0</td>\n",
       "      <td>2.791270e+07</td>\n",
       "    </tr>\n",
       "    <tr>\n",
       "      <th>1</th>\n",
       "      <td>1</td>\n",
       "      <td>1.985864e+07</td>\n",
       "    </tr>\n",
       "    <tr>\n",
       "      <th>2</th>\n",
       "      <td>2</td>\n",
       "      <td>-1.964284e+07</td>\n",
       "    </tr>\n",
       "    <tr>\n",
       "      <th>3</th>\n",
       "      <td>3</td>\n",
       "      <td>1.749021e+07</td>\n",
       "    </tr>\n",
       "    <tr>\n",
       "      <th>4</th>\n",
       "      <td>4</td>\n",
       "      <td>-6.230438e+05</td>\n",
       "    </tr>\n",
       "  </tbody>\n",
       "</table>\n",
       "</div>"
      ],
      "text/plain": [
       "   index  revenue_pred\n",
       "0      0  2.791270e+07\n",
       "1      1  1.985864e+07\n",
       "2      2 -1.964284e+07\n",
       "3      3  1.749021e+07\n",
       "4      4 -6.230438e+05"
      ]
     },
     "execution_count": 18,
     "metadata": {},
     "output_type": "execute_result"
    }
   ],
   "source": [
    "data_pred = {\n",
    "    'index': x, \n",
    "    'revenue_pred': predict_test_lr\n",
    "}\n",
    "df_pred = pd.DataFrame(data_pred)\n",
    "df_pred.head()"
   ]
  },
  {
   "cell_type": "code",
   "execution_count": 19,
   "id": "17ca3806",
   "metadata": {
    "execution": {
     "iopub.execute_input": "2023-09-06T16:16:10.646013Z",
     "iopub.status.busy": "2023-09-06T16:16:10.645534Z",
     "iopub.status.idle": "2023-09-06T16:16:10.657598Z",
     "shell.execute_reply": "2023-09-06T16:16:10.656371Z"
    },
    "papermill": {
     "duration": 0.029348,
     "end_time": "2023-09-06T16:16:10.660692",
     "exception": false,
     "start_time": "2023-09-06T16:16:10.631344",
     "status": "completed"
    },
    "tags": []
   },
   "outputs": [
    {
     "data": {
      "text/html": [
       "<div>\n",
       "<style scoped>\n",
       "    .dataframe tbody tr th:only-of-type {\n",
       "        vertical-align: middle;\n",
       "    }\n",
       "\n",
       "    .dataframe tbody tr th {\n",
       "        vertical-align: top;\n",
       "    }\n",
       "\n",
       "    .dataframe thead th {\n",
       "        text-align: right;\n",
       "    }\n",
       "</style>\n",
       "<table border=\"1\" class=\"dataframe\">\n",
       "  <thead>\n",
       "    <tr style=\"text-align: right;\">\n",
       "      <th></th>\n",
       "      <th>index</th>\n",
       "      <th>revenue_test</th>\n",
       "    </tr>\n",
       "  </thead>\n",
       "  <tbody>\n",
       "    <tr>\n",
       "      <th>0</th>\n",
       "      <td>0</td>\n",
       "      <td>18599102</td>\n",
       "    </tr>\n",
       "    <tr>\n",
       "      <th>1</th>\n",
       "      <td>1</td>\n",
       "      <td>6000000</td>\n",
       "    </tr>\n",
       "    <tr>\n",
       "      <th>2</th>\n",
       "      <td>2</td>\n",
       "      <td>1000000</td>\n",
       "    </tr>\n",
       "    <tr>\n",
       "      <th>3</th>\n",
       "      <td>3</td>\n",
       "      <td>29174648</td>\n",
       "    </tr>\n",
       "    <tr>\n",
       "      <th>4</th>\n",
       "      <td>4</td>\n",
       "      <td>10367161</td>\n",
       "    </tr>\n",
       "  </tbody>\n",
       "</table>\n",
       "</div>"
      ],
      "text/plain": [
       "   index  revenue_test\n",
       "0      0      18599102\n",
       "1      1       6000000\n",
       "2      2       1000000\n",
       "3      3      29174648\n",
       "4      4      10367161"
      ]
     },
     "execution_count": 19,
     "metadata": {},
     "output_type": "execute_result"
    }
   ],
   "source": [
    "y_real = y_test.values\n",
    "data_real = {\n",
    "    'index': x,\n",
    "    'revenue_test': y_real\n",
    "}\n",
    "df_real = pd.DataFrame(data_real)\n",
    "df_real.head()"
   ]
  },
  {
   "cell_type": "code",
   "execution_count": 20,
   "id": "2bc3ce67",
   "metadata": {
    "execution": {
     "iopub.execute_input": "2023-09-06T16:16:10.687686Z",
     "iopub.status.busy": "2023-09-06T16:16:10.687179Z",
     "iopub.status.idle": "2023-09-06T16:16:11.143494Z",
     "shell.execute_reply": "2023-09-06T16:16:11.142434Z"
    },
    "papermill": {
     "duration": 0.473644,
     "end_time": "2023-09-06T16:16:11.146821",
     "exception": false,
     "start_time": "2023-09-06T16:16:10.673177",
     "status": "completed"
    },
    "tags": []
   },
   "outputs": [
    {
     "data": {
      "image/png": "[encoded data removed]",
      "text/plain": [
       "<Figure size 2000x600 with 1 Axes>"
      ]
     },
     "metadata": {},
     "output_type": "display_data"
    }
   ],
   "source": [
    "f = plt.figure()\n",
    "f.set_figwidth(20)\n",
    "f.set_figheight(6)\n",
    "\n",
    "plt.title(\"Tương quan giữa doanh thu dự đoán và thực tế\")\n",
    "\n",
    "plt.xlim([0, 100])\n",
    "plt.ylim([0, 1500000000])\n",
    "plt.plot(df_pred['index'], df_pred['revenue_pred'], color='red', label=\"Doanh thu dự đoán\", marker='o')\n",
    "plt.plot(df_real['index'], df_real['revenue_test'], color='blue', label=\"Doanh thu thực tế\", linestyle='dashed', marker='o')\n",
    "plt.legend();\n",
    "\n",
    "plt.grid(True);\n",
    "plt.show();"
   ]
  }
 ],
 "kernelspec": {
  "display_name": "Python 3",
  "language": "python",
  "name": "python3"
 },
 "language_info": {
  "codemirror_mode": {
   "name": "ipython",
   "version": 3
  },
  "file_extension": ".py",
  "mimetype": "text/x-python",
  "name": "python",
  "nbconvert_exporter": "python",
  "pygments_lexer": "ipython3",
  "version": "3.6.4"
 },
 "metadata": {
  "kernelspec": {
   "display_name": "Python 3",
   "language": "python",
   "name": "python3"
  },
  "language_info": {
   "codemirror_mode": {
    "name": "ipython",
    "version": 3
   },
   "file_extension": ".py",
   "mimetype": "text/x-python",
   "name": "python",
   "nbconvert_exporter": "python",
   "pygments_lexer": "ipython3",
   "version": "3.10.12"
  },
  "papermill": {
   "default_parameters": {},
   "duration": 9.146421,
   "end_time": "2023-09-06T16:16:11.993864",
   "environment_variables": {},
   "exception": null,
   "input_path": "__notebook__.ipynb",
   "output_path": "__notebook__.ipynb",
   "parameters": {},
   "start_time": "2023-09-06T16:16:02.847443",
   "version": "2.4.0"
  }
 },
 "nbformat": 4,
 "nbformat_minor": 5
}
