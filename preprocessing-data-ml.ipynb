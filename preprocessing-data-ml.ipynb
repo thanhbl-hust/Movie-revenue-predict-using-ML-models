{
 "cells": [
  {
   "cell_type": "code",
   "execution_count": 1,
   "id": "8eec64d4",
   "metadata": {
    "execution": {
     "iopub.execute_input": "2023-09-06T16:02:43.596037Z",
     "iopub.status.busy": "2023-09-06T16:02:43.595642Z",
     "iopub.status.idle": "2023-09-06T16:02:45.815160Z",
     "shell.execute_reply": "2023-09-06T16:02:45.813950Z"
    },
    "papermill": {
     "duration": 2.248127,
     "end_time": "2023-09-06T16:02:45.818087",
     "exception": false,
     "start_time": "2023-09-06T16:02:43.569960",
     "status": "completed"
    },
    "tags": []
   },
   "outputs": [],
   "source": [
    "# import libraries\n",
    "import ast\n",
    "import pandas as pd\n",
    "import numpy as np\n",
    "import matplotlib.pyplot as plt\n",
    "import seaborn as sns"
   ]
  },
  {
   "cell_type": "code",
   "execution_count": 2,
   "id": "0ee4d221",
   "metadata": {
    "execution": {
     "iopub.execute_input": "2023-09-06T16:02:45.864109Z",
     "iopub.status.busy": "2023-09-06T16:02:45.863201Z",
     "iopub.status.idle": "2023-09-06T16:02:47.387829Z",
     "shell.execute_reply": "2023-09-06T16:02:47.386650Z"
    },
    "papermill": {
     "duration": 1.550423,
     "end_time": "2023-09-06T16:02:47.390609",
     "exception": false,
     "start_time": "2023-09-06T16:02:45.840186",
     "status": "completed"
    },
    "tags": []
   },
   "outputs": [],
   "source": [
    "df = pd.read_csv(\"/kaggle/input/movie-predict/data/movies_metadata.csv\", dtype={'popularity': 'str'})"
   ]
  },
  {
   "cell_type": "code",
   "execution_count": 3,
   "id": "725c4475",
   "metadata": {
    "execution": {
     "iopub.execute_input": "2023-09-06T16:02:47.436177Z",
     "iopub.status.busy": "2023-09-06T16:02:47.435783Z",
     "iopub.status.idle": "2023-09-06T16:02:47.476576Z",
     "shell.execute_reply": "2023-09-06T16:02:47.475534Z"
    },
    "papermill": {
     "duration": 0.066833,
     "end_time": "2023-09-06T16:02:47.479587",
     "exception": false,
     "start_time": "2023-09-06T16:02:47.412754",
     "status": "completed"
    },
    "tags": []
   },
   "outputs": [
    {
     "data": {
      "text/html": [
       "<div>\n",
       "<style scoped>\n",
       "    .dataframe tbody tr th:only-of-type {\n",
       "        vertical-align: middle;\n",
       "    }\n",
       "\n",
       "    .dataframe tbody tr th {\n",
       "        vertical-align: top;\n",
       "    }\n",
       "\n",
       "    .dataframe thead th {\n",
       "        text-align: right;\n",
       "    }\n",
       "</style>\n",
       "<table border=\"1\" class=\"dataframe\">\n",
       "  <thead>\n",
       "    <tr style=\"text-align: right;\">\n",
       "      <th></th>\n",
       "      <th>adult</th>\n",
       "      <th>belongs_to_collection</th>\n",
       "      <th>budget</th>\n",
       "      <th>genres</th>\n",
       "      <th>homepage</th>\n",
       "      <th>id</th>\n",
       "      <th>imdb_id</th>\n",
       "      <th>original_language</th>\n",
       "      <th>original_title</th>\n",
       "      <th>overview</th>\n",
       "      <th>...</th>\n",
       "      <th>release_date</th>\n",
       "      <th>revenue</th>\n",
       "      <th>runtime</th>\n",
       "      <th>spoken_languages</th>\n",
       "      <th>status</th>\n",
       "      <th>tagline</th>\n",
       "      <th>title</th>\n",
       "      <th>video</th>\n",
       "      <th>vote_average</th>\n",
       "      <th>vote_count</th>\n",
       "    </tr>\n",
       "  </thead>\n",
       "  <tbody>\n",
       "    <tr>\n",
       "      <th>0</th>\n",
       "      <td>False</td>\n",
       "      <td>{'id': 10194, 'name': 'Toy Story Collection', ...</td>\n",
       "      <td>30000000</td>\n",
       "      <td>[{'id': 16, 'name': 'Animation'}, {'id': 35, '...</td>\n",
       "      <td>http://toystory.disney.com/toy-story</td>\n",
       "      <td>862</td>\n",
       "      <td>tt0114709</td>\n",
       "      <td>en</td>\n",
       "      <td>Toy Story</td>\n",
       "      <td>Led by Woody, Andy's toys live happily in his ...</td>\n",
       "      <td>...</td>\n",
       "      <td>1995-10-30</td>\n",
       "      <td>373554033.0</td>\n",
       "      <td>81.0</td>\n",
       "      <td>[{'iso_639_1': 'en', 'name': 'English'}]</td>\n",
       "      <td>Released</td>\n",
       "      <td>NaN</td>\n",
       "      <td>Toy Story</td>\n",
       "      <td>False</td>\n",
       "      <td>7.7</td>\n",
       "      <td>5415.0</td>\n",
       "    </tr>\n",
       "    <tr>\n",
       "      <th>1</th>\n",
       "      <td>False</td>\n",
       "      <td>NaN</td>\n",
       "      <td>65000000</td>\n",
       "      <td>[{'id': 12, 'name': 'Adventure'}, {'id': 14, '...</td>\n",
       "      <td>NaN</td>\n",
       "      <td>8844</td>\n",
       "      <td>tt0113497</td>\n",
       "      <td>en</td>\n",
       "      <td>Jumanji</td>\n",
       "      <td>When siblings Judy and Peter discover an encha...</td>\n",
       "      <td>...</td>\n",
       "      <td>1995-12-15</td>\n",
       "      <td>262797249.0</td>\n",
       "      <td>104.0</td>\n",
       "      <td>[{'iso_639_1': 'en', 'name': 'English'}, {'iso...</td>\n",
       "      <td>Released</td>\n",
       "      <td>Roll the dice and unleash the excitement!</td>\n",
       "      <td>Jumanji</td>\n",
       "      <td>False</td>\n",
       "      <td>6.9</td>\n",
       "      <td>2413.0</td>\n",
       "    </tr>\n",
       "    <tr>\n",
       "      <th>2</th>\n",
       "      <td>False</td>\n",
       "      <td>{'id': 119050, 'name': 'Grumpy Old Men Collect...</td>\n",
       "      <td>0</td>\n",
       "      <td>[{'id': 10749, 'name': 'Romance'}, {'id': 35, ...</td>\n",
       "      <td>NaN</td>\n",
       "      <td>15602</td>\n",
       "      <td>tt0113228</td>\n",
       "      <td>en</td>\n",
       "      <td>Grumpier Old Men</td>\n",
       "      <td>A family wedding reignites the ancient feud be...</td>\n",
       "      <td>...</td>\n",
       "      <td>1995-12-22</td>\n",
       "      <td>0.0</td>\n",
       "      <td>101.0</td>\n",
       "      <td>[{'iso_639_1': 'en', 'name': 'English'}]</td>\n",
       "      <td>Released</td>\n",
       "      <td>Still Yelling. Still Fighting. Still Ready for...</td>\n",
       "      <td>Grumpier Old Men</td>\n",
       "      <td>False</td>\n",
       "      <td>6.5</td>\n",
       "      <td>92.0</td>\n",
       "    </tr>\n",
       "  </tbody>\n",
       "</table>\n",
       "<p>3 rows × 24 columns</p>\n",
       "</div>"
      ],
      "text/plain": [
       "   adult                              belongs_to_collection    budget  \\\n",
       "0  False  {'id': 10194, 'name': 'Toy Story Collection', ...  30000000   \n",
       "1  False                                                NaN  65000000   \n",
       "2  False  {'id': 119050, 'name': 'Grumpy Old Men Collect...         0   \n",
       "\n",
       "                                              genres  \\\n",
       "0  [{'id': 16, 'name': 'Animation'}, {'id': 35, '...   \n",
       "1  [{'id': 12, 'name': 'Adventure'}, {'id': 14, '...   \n",
       "2  [{'id': 10749, 'name': 'Romance'}, {'id': 35, ...   \n",
       "\n",
       "                               homepage     id    imdb_id original_language  \\\n",
       "0  http://toystory.disney.com/toy-story    862  tt0114709                en   \n",
       "1                                   NaN   8844  tt0113497                en   \n",
       "2                                   NaN  15602  tt0113228                en   \n",
       "\n",
       "     original_title                                           overview  ...  \\\n",
       "0         Toy Story  Led by Woody, Andy's toys live happily in his ...  ...   \n",
       "1           Jumanji  When siblings Judy and Peter discover an encha...  ...   \n",
       "2  Grumpier Old Men  A family wedding reignites the ancient feud be...  ...   \n",
       "\n",
       "  release_date      revenue runtime  \\\n",
       "0   1995-10-30  373554033.0    81.0   \n",
       "1   1995-12-15  262797249.0   104.0   \n",
       "2   1995-12-22          0.0   101.0   \n",
       "\n",
       "                                    spoken_languages    status  \\\n",
       "0           [{'iso_639_1': 'en', 'name': 'English'}]  Released   \n",
       "1  [{'iso_639_1': 'en', 'name': 'English'}, {'iso...  Released   \n",
       "2           [{'iso_639_1': 'en', 'name': 'English'}]  Released   \n",
       "\n",
       "                                             tagline             title  video  \\\n",
       "0                                                NaN         Toy Story  False   \n",
       "1          Roll the dice and unleash the excitement!           Jumanji  False   \n",
       "2  Still Yelling. Still Fighting. Still Ready for...  Grumpier Old Men  False   \n",
       "\n",
       "  vote_average vote_count  \n",
       "0          7.7     5415.0  \n",
       "1          6.9     2413.0  \n",
       "2          6.5       92.0  \n",
       "\n",
       "[3 rows x 24 columns]"
      ]
     },
     "execution_count": 3,
     "metadata": {},
     "output_type": "execute_result"
    }
   ],
   "source": [
    "df.head(3)"
   ]
  },
  {
   "cell_type": "code",
   "execution_count": 4,
   "id": "2d00eb3a",
   "metadata": {
    "execution": {
     "iopub.execute_input": "2023-09-06T16:02:47.525638Z",
     "iopub.status.busy": "2023-09-06T16:02:47.525180Z",
     "iopub.status.idle": "2023-09-06T16:02:47.643834Z",
     "shell.execute_reply": "2023-09-06T16:02:47.642114Z"
    },
    "papermill": {
     "duration": 0.145115,
     "end_time": "2023-09-06T16:02:47.646835",
     "exception": false,
     "start_time": "2023-09-06T16:02:47.501720",
     "status": "completed"
    },
    "tags": []
   },
   "outputs": [
    {
     "name": "stdout",
     "output_type": "stream",
     "text": [
      "<class 'pandas.core.frame.DataFrame'>\n",
      "RangeIndex: 45466 entries, 0 to 45465\n",
      "Data columns (total 24 columns):\n",
      " #   Column                 Non-Null Count  Dtype  \n",
      "---  ------                 --------------  -----  \n",
      " 0   adult                  45466 non-null  object \n",
      " 1   belongs_to_collection  4494 non-null   object \n",
      " 2   budget                 45466 non-null  object \n",
      " 3   genres                 45466 non-null  object \n",
      " 4   homepage               7782 non-null   object \n",
      " 5   id                     45466 non-null  object \n",
      " 6   imdb_id                45449 non-null  object \n",
      " 7   original_language      45455 non-null  object \n",
      " 8   original_title         45466 non-null  object \n",
      " 9   overview               44512 non-null  object \n",
      " 10  popularity             45461 non-null  object \n",
      " 11  poster_path            45080 non-null  object \n",
      " 12  production_companies   45463 non-null  object \n",
      " 13  production_countries   45463 non-null  object \n",
      " 14  release_date           45379 non-null  object \n",
      " 15  revenue                45460 non-null  float64\n",
      " 16  runtime                45203 non-null  float64\n",
      " 17  spoken_languages       45460 non-null  object \n",
      " 18  status                 45379 non-null  object \n",
      " 19  tagline                20412 non-null  object \n",
      " 20  title                  45460 non-null  object \n",
      " 21  video                  45460 non-null  object \n",
      " 22  vote_average           45460 non-null  float64\n",
      " 23  vote_count             45460 non-null  float64\n",
      "dtypes: float64(4), object(20)\n",
      "memory usage: 8.3+ MB\n"
     ]
    }
   ],
   "source": [
    "df.info()"
   ]
  },
  {
   "cell_type": "code",
   "execution_count": 5,
   "id": "54394a32",
   "metadata": {
    "execution": {
     "iopub.execute_input": "2023-09-06T16:02:47.694838Z",
     "iopub.status.busy": "2023-09-06T16:02:47.694408Z",
     "iopub.status.idle": "2023-09-06T16:02:47.702058Z",
     "shell.execute_reply": "2023-09-06T16:02:47.700808Z"
    },
    "papermill": {
     "duration": 0.034523,
     "end_time": "2023-09-06T16:02:47.704413",
     "exception": false,
     "start_time": "2023-09-06T16:02:47.669890",
     "status": "completed"
    },
    "tags": []
   },
   "outputs": [
    {
     "data": {
      "text/plain": [
       "(45466, 24)"
      ]
     },
     "execution_count": 5,
     "metadata": {},
     "output_type": "execute_result"
    }
   ],
   "source": [
    "df.shape"
   ]
  },
  {
   "cell_type": "markdown",
   "id": "6560a669",
   "metadata": {
    "papermill": {
     "duration": 0.022186,
     "end_time": "2023-09-06T16:02:47.749111",
     "exception": false,
     "start_time": "2023-09-06T16:02:47.726925",
     "status": "completed"
    },
    "tags": []
   },
   "source": [
    "**Delete column doesn't matter or hard to process**"
   ]
  },
  {
   "cell_type": "code",
   "execution_count": 6,
   "id": "23b8573d",
   "metadata": {
    "execution": {
     "iopub.execute_input": "2023-09-06T16:02:47.796877Z",
     "iopub.status.busy": "2023-09-06T16:02:47.796470Z",
     "iopub.status.idle": "2023-09-06T16:02:47.814384Z",
     "shell.execute_reply": "2023-09-06T16:02:47.813161Z"
    },
    "papermill": {
     "duration": 0.045429,
     "end_time": "2023-09-06T16:02:47.817410",
     "exception": false,
     "start_time": "2023-09-06T16:02:47.771981",
     "status": "completed"
    },
    "tags": []
   },
   "outputs": [],
   "source": [
    "df = df.drop(['tagline'], axis=1)"
   ]
  },
  {
   "cell_type": "code",
   "execution_count": 7,
   "id": "e02d3286",
   "metadata": {
    "execution": {
     "iopub.execute_input": "2023-09-06T16:02:47.868894Z",
     "iopub.status.busy": "2023-09-06T16:02:47.868492Z",
     "iopub.status.idle": "2023-09-06T16:02:47.894637Z",
     "shell.execute_reply": "2023-09-06T16:02:47.893519Z"
    },
    "papermill": {
     "duration": 0.053097,
     "end_time": "2023-09-06T16:02:47.897468",
     "exception": false,
     "start_time": "2023-09-06T16:02:47.844371",
     "status": "completed"
    },
    "tags": []
   },
   "outputs": [],
   "source": [
    "df = df.drop(['imdb_id'], axis=1) "
   ]
  },
  {
   "cell_type": "code",
   "execution_count": 8,
   "id": "13b1be14",
   "metadata": {
    "execution": {
     "iopub.execute_input": "2023-09-06T16:02:47.944964Z",
     "iopub.status.busy": "2023-09-06T16:02:47.943937Z",
     "iopub.status.idle": "2023-09-06T16:02:47.965826Z",
     "shell.execute_reply": "2023-09-06T16:02:47.964576Z"
    },
    "papermill": {
     "duration": 0.048727,
     "end_time": "2023-09-06T16:02:47.968726",
     "exception": false,
     "start_time": "2023-09-06T16:02:47.919999",
     "status": "completed"
    },
    "tags": []
   },
   "outputs": [],
   "source": [
    "df = df.drop(['id'], axis=1)"
   ]
  },
  {
   "cell_type": "code",
   "execution_count": 9,
   "id": "d4dc4b2c",
   "metadata": {
    "execution": {
     "iopub.execute_input": "2023-09-06T16:02:48.016329Z",
     "iopub.status.busy": "2023-09-06T16:02:48.015318Z",
     "iopub.status.idle": "2023-09-06T16:02:48.034275Z",
     "shell.execute_reply": "2023-09-06T16:02:48.033279Z"
    },
    "papermill": {
     "duration": 0.045353,
     "end_time": "2023-09-06T16:02:48.036889",
     "exception": false,
     "start_time": "2023-09-06T16:02:47.991536",
     "status": "completed"
    },
    "tags": []
   },
   "outputs": [],
   "source": [
    "df = df.drop(['original_title'], axis=1)"
   ]
  },
  {
   "cell_type": "code",
   "execution_count": 10,
   "id": "1e1c28fb",
   "metadata": {
    "execution": {
     "iopub.execute_input": "2023-09-06T16:02:48.085357Z",
     "iopub.status.busy": "2023-09-06T16:02:48.084589Z",
     "iopub.status.idle": "2023-09-06T16:02:48.102167Z",
     "shell.execute_reply": "2023-09-06T16:02:48.100822Z"
    },
    "papermill": {
     "duration": 0.045447,
     "end_time": "2023-09-06T16:02:48.104978",
     "exception": false,
     "start_time": "2023-09-06T16:02:48.059531",
     "status": "completed"
    },
    "tags": []
   },
   "outputs": [],
   "source": [
    "df = df.drop(['overview'], axis=1)"
   ]
  },
  {
   "cell_type": "code",
   "execution_count": 11,
   "id": "10da006e",
   "metadata": {
    "execution": {
     "iopub.execute_input": "2023-09-06T16:02:48.215217Z",
     "iopub.status.busy": "2023-09-06T16:02:48.214834Z",
     "iopub.status.idle": "2023-09-06T16:02:48.231085Z",
     "shell.execute_reply": "2023-09-06T16:02:48.229923Z"
    },
    "papermill": {
     "duration": 0.043395,
     "end_time": "2023-09-06T16:02:48.234123",
     "exception": false,
     "start_time": "2023-09-06T16:02:48.190728",
     "status": "completed"
    },
    "tags": []
   },
   "outputs": [],
   "source": [
    "df = df.drop(['title'], axis=1)"
   ]
  },
  {
   "cell_type": "code",
   "execution_count": 12,
   "id": "100a5f1d",
   "metadata": {
    "execution": {
     "iopub.execute_input": "2023-09-06T16:02:48.281419Z",
     "iopub.status.busy": "2023-09-06T16:02:48.280969Z",
     "iopub.status.idle": "2023-09-06T16:02:48.297192Z",
     "shell.execute_reply": "2023-09-06T16:02:48.295981Z"
    },
    "papermill": {
     "duration": 0.043434,
     "end_time": "2023-09-06T16:02:48.300134",
     "exception": false,
     "start_time": "2023-09-06T16:02:48.256700",
     "status": "completed"
    },
    "tags": []
   },
   "outputs": [],
   "source": [
    "df = df.drop(['poster_path'], axis=1)"
   ]
  },
  {
   "cell_type": "code",
   "execution_count": 13,
   "id": "2330dd3f",
   "metadata": {
    "execution": {
     "iopub.execute_input": "2023-09-06T16:02:48.349368Z",
     "iopub.status.busy": "2023-09-06T16:02:48.348935Z",
     "iopub.status.idle": "2023-09-06T16:02:48.364229Z",
     "shell.execute_reply": "2023-09-06T16:02:48.363004Z"
    },
    "papermill": {
     "duration": 0.043256,
     "end_time": "2023-09-06T16:02:48.367061",
     "exception": false,
     "start_time": "2023-09-06T16:02:48.323805",
     "status": "completed"
    },
    "tags": []
   },
   "outputs": [],
   "source": [
    "df = df.drop(['video'], axis=1)"
   ]
  },
  {
   "cell_type": "code",
   "execution_count": 14,
   "id": "97ba543e",
   "metadata": {
    "execution": {
     "iopub.execute_input": "2023-09-06T16:02:48.414922Z",
     "iopub.status.busy": "2023-09-06T16:02:48.414525Z",
     "iopub.status.idle": "2023-09-06T16:02:48.428993Z",
     "shell.execute_reply": "2023-09-06T16:02:48.427715Z"
    },
    "papermill": {
     "duration": 0.041824,
     "end_time": "2023-09-06T16:02:48.431753",
     "exception": false,
     "start_time": "2023-09-06T16:02:48.389929",
     "status": "completed"
    },
    "tags": []
   },
   "outputs": [],
   "source": [
    "df = df.drop(['belongs_to_collection'], axis=1)"
   ]
  },
  {
   "cell_type": "markdown",
   "id": "719c5ae1",
   "metadata": {
    "papermill": {
     "duration": 0.02229,
     "end_time": "2023-09-06T16:02:48.476442",
     "exception": false,
     "start_time": "2023-09-06T16:02:48.454152",
     "status": "completed"
    },
    "tags": []
   },
   "source": [
    "**Check revenue equals 0?**"
   ]
  },
  {
   "cell_type": "code",
   "execution_count": 15,
   "id": "767ee36b",
   "metadata": {
    "execution": {
     "iopub.execute_input": "2023-09-06T16:02:48.523456Z",
     "iopub.status.busy": "2023-09-06T16:02:48.523029Z",
     "iopub.status.idle": "2023-09-06T16:02:48.541382Z",
     "shell.execute_reply": "2023-09-06T16:02:48.540046Z"
    },
    "papermill": {
     "duration": 0.045128,
     "end_time": "2023-09-06T16:02:48.544193",
     "exception": false,
     "start_time": "2023-09-06T16:02:48.499065",
     "status": "completed"
    },
    "tags": []
   },
   "outputs": [
    {
     "data": {
      "text/plain": [
       "(38052, 15)"
      ]
     },
     "execution_count": 15,
     "metadata": {},
     "output_type": "execute_result"
    }
   ],
   "source": [
    "df[df['revenue'] == 0].shape "
   ]
  },
  {
   "cell_type": "code",
   "execution_count": 16,
   "id": "03eca29b",
   "metadata": {
    "execution": {
     "iopub.execute_input": "2023-09-06T16:02:48.591491Z",
     "iopub.status.busy": "2023-09-06T16:02:48.591090Z",
     "iopub.status.idle": "2023-09-06T16:02:48.597915Z",
     "shell.execute_reply": "2023-09-06T16:02:48.596697Z"
    },
    "papermill": {
     "duration": 0.033644,
     "end_time": "2023-09-06T16:02:48.600681",
     "exception": false,
     "start_time": "2023-09-06T16:02:48.567037",
     "status": "completed"
    },
    "tags": []
   },
   "outputs": [],
   "source": [
    "df['revenue'] = df['revenue'].replace(0, np.nan) # thay thế giá trị 0 bằng giá trị nan"
   ]
  },
  {
   "cell_type": "code",
   "execution_count": 17,
   "id": "fd3bf6cb",
   "metadata": {
    "execution": {
     "iopub.execute_input": "2023-09-06T16:02:48.648160Z",
     "iopub.status.busy": "2023-09-06T16:02:48.647236Z",
     "iopub.status.idle": "2023-09-06T16:02:48.700628Z",
     "shell.execute_reply": "2023-09-06T16:02:48.699363Z"
    },
    "papermill": {
     "duration": 0.080317,
     "end_time": "2023-09-06T16:02:48.703628",
     "exception": false,
     "start_time": "2023-09-06T16:02:48.623311",
     "status": "completed"
    },
    "tags": []
   },
   "outputs": [],
   "source": [
    "df['budget'] = pd.to_numeric(df['budget'], errors='coerce') # chuyền từ object về dạng float64"
   ]
  },
  {
   "cell_type": "code",
   "execution_count": 18,
   "id": "834f142f",
   "metadata": {
    "execution": {
     "iopub.execute_input": "2023-09-06T16:02:48.751226Z",
     "iopub.status.busy": "2023-09-06T16:02:48.750208Z",
     "iopub.status.idle": "2023-09-06T16:02:48.765793Z",
     "shell.execute_reply": "2023-09-06T16:02:48.764834Z"
    },
    "papermill": {
     "duration": 0.041921,
     "end_time": "2023-09-06T16:02:48.768099",
     "exception": false,
     "start_time": "2023-09-06T16:02:48.726178",
     "status": "completed"
    },
    "tags": []
   },
   "outputs": [
    {
     "data": {
      "text/plain": [
       "(36573, 15)"
      ]
     },
     "execution_count": 18,
     "metadata": {},
     "output_type": "execute_result"
    }
   ],
   "source": [
    "df[df['budget'] == 0].shape"
   ]
  },
  {
   "cell_type": "code",
   "execution_count": 19,
   "id": "8bfb4b82",
   "metadata": {
    "execution": {
     "iopub.execute_input": "2023-09-06T16:02:48.816208Z",
     "iopub.status.busy": "2023-09-06T16:02:48.815251Z",
     "iopub.status.idle": "2023-09-06T16:02:48.822268Z",
     "shell.execute_reply": "2023-09-06T16:02:48.820993Z"
    },
    "papermill": {
     "duration": 0.03427,
     "end_time": "2023-09-06T16:02:48.825070",
     "exception": false,
     "start_time": "2023-09-06T16:02:48.790800",
     "status": "completed"
    },
    "tags": []
   },
   "outputs": [],
   "source": [
    "df['budget'] = df['budget'].replace(0, np.nan)"
   ]
  },
  {
   "cell_type": "code",
   "execution_count": 20,
   "id": "813e348b",
   "metadata": {
    "execution": {
     "iopub.execute_input": "2023-09-06T16:02:48.872335Z",
     "iopub.status.busy": "2023-09-06T16:02:48.871920Z",
     "iopub.status.idle": "2023-09-06T16:02:48.885817Z",
     "shell.execute_reply": "2023-09-06T16:02:48.884629Z"
    },
    "papermill": {
     "duration": 0.040746,
     "end_time": "2023-09-06T16:02:48.888596",
     "exception": false,
     "start_time": "2023-09-06T16:02:48.847850",
     "status": "completed"
    },
    "tags": []
   },
   "outputs": [],
   "source": [
    "df = df.dropna(subset=['budget', 'revenue'])"
   ]
  },
  {
   "cell_type": "code",
   "execution_count": 21,
   "id": "37e0505e",
   "metadata": {
    "execution": {
     "iopub.execute_input": "2023-09-06T16:02:48.941155Z",
     "iopub.status.busy": "2023-09-06T16:02:48.940622Z",
     "iopub.status.idle": "2023-09-06T16:02:48.949021Z",
     "shell.execute_reply": "2023-09-06T16:02:48.947777Z"
    },
    "papermill": {
     "duration": 0.040655,
     "end_time": "2023-09-06T16:02:48.952190",
     "exception": false,
     "start_time": "2023-09-06T16:02:48.911535",
     "status": "completed"
    },
    "tags": []
   },
   "outputs": [
    {
     "data": {
      "text/plain": [
       "(5381, 15)"
      ]
     },
     "execution_count": 21,
     "metadata": {},
     "output_type": "execute_result"
    }
   ],
   "source": [
    "df.shape"
   ]
  },
  {
   "cell_type": "code",
   "execution_count": 22,
   "id": "e6b3e188",
   "metadata": {
    "execution": {
     "iopub.execute_input": "2023-09-06T16:02:49.011351Z",
     "iopub.status.busy": "2023-09-06T16:02:49.010831Z",
     "iopub.status.idle": "2023-09-06T16:02:49.021713Z",
     "shell.execute_reply": "2023-09-06T16:02:49.020832Z"
    },
    "papermill": {
     "duration": 0.041503,
     "end_time": "2023-09-06T16:02:49.024724",
     "exception": false,
     "start_time": "2023-09-06T16:02:48.983221",
     "status": "completed"
    },
    "tags": []
   },
   "outputs": [
    {
     "data": {
      "text/plain": [
       "adult\n",
       "False    5381\n",
       "Name: count, dtype: int64"
      ]
     },
     "execution_count": 22,
     "metadata": {},
     "output_type": "execute_result"
    }
   ],
   "source": [
    "df['adult'].value_counts()"
   ]
  },
  {
   "cell_type": "code",
   "execution_count": 23,
   "id": "dbda0143",
   "metadata": {
    "execution": {
     "iopub.execute_input": "2023-09-06T16:02:49.081750Z",
     "iopub.status.busy": "2023-09-06T16:02:49.081180Z",
     "iopub.status.idle": "2023-09-06T16:02:49.090069Z",
     "shell.execute_reply": "2023-09-06T16:02:49.088859Z"
    },
    "papermill": {
     "duration": 0.040187,
     "end_time": "2023-09-06T16:02:49.093554",
     "exception": false,
     "start_time": "2023-09-06T16:02:49.053367",
     "status": "completed"
    },
    "tags": []
   },
   "outputs": [],
   "source": [
    "df = df.drop(['adult'], axis=1)"
   ]
  },
  {
   "cell_type": "code",
   "execution_count": 24,
   "id": "53a8acf1",
   "metadata": {
    "execution": {
     "iopub.execute_input": "2023-09-06T16:02:49.143754Z",
     "iopub.status.busy": "2023-09-06T16:02:49.143362Z",
     "iopub.status.idle": "2023-09-06T16:02:49.307008Z",
     "shell.execute_reply": "2023-09-06T16:02:49.305626Z"
    },
    "papermill": {
     "duration": 0.192174,
     "end_time": "2023-09-06T16:02:49.310005",
     "exception": false,
     "start_time": "2023-09-06T16:02:49.117831",
     "status": "completed"
    },
    "tags": []
   },
   "outputs": [],
   "source": [
    "df['production_countries'] = df['production_countries'].fillna('[]').apply(ast.literal_eval) # điền vào các cột trống "
   ]
  },
  {
   "cell_type": "code",
   "execution_count": 25,
   "id": "e90ca558",
   "metadata": {
    "execution": {
     "iopub.execute_input": "2023-09-06T16:02:49.362606Z",
     "iopub.status.busy": "2023-09-06T16:02:49.362174Z",
     "iopub.status.idle": "2023-09-06T16:02:49.378084Z",
     "shell.execute_reply": "2023-09-06T16:02:49.376813Z"
    },
    "papermill": {
     "duration": 0.045884,
     "end_time": "2023-09-06T16:02:49.380565",
     "exception": false,
     "start_time": "2023-09-06T16:02:49.334681",
     "status": "completed"
    },
    "tags": []
   },
   "outputs": [],
   "source": [
    "df['production_countries'] = df['production_countries'].apply(lambda x: [i['name'] for i in x] if isinstance(x, list) else [])"
   ]
  },
  {
   "cell_type": "code",
   "execution_count": 26,
   "id": "5d2afed3",
   "metadata": {
    "execution": {
     "iopub.execute_input": "2023-09-06T16:02:49.429596Z",
     "iopub.status.busy": "2023-09-06T16:02:49.428852Z",
     "iopub.status.idle": "2023-09-06T16:02:49.439773Z",
     "shell.execute_reply": "2023-09-06T16:02:49.438512Z"
    },
    "papermill": {
     "duration": 0.038223,
     "end_time": "2023-09-06T16:02:49.442568",
     "exception": false,
     "start_time": "2023-09-06T16:02:49.404345",
     "status": "completed"
    },
    "tags": []
   },
   "outputs": [],
   "source": [
    "df['production_countries'] = df['production_countries'].apply(lambda x: len(x))"
   ]
  },
  {
   "cell_type": "code",
   "execution_count": 27,
   "id": "8a747e4c",
   "metadata": {
    "execution": {
     "iopub.execute_input": "2023-09-06T16:02:49.491142Z",
     "iopub.status.busy": "2023-09-06T16:02:49.490727Z",
     "iopub.status.idle": "2023-09-06T16:02:49.793382Z",
     "shell.execute_reply": "2023-09-06T16:02:49.792198Z"
    },
    "papermill": {
     "duration": 0.329789,
     "end_time": "2023-09-06T16:02:49.796064",
     "exception": false,
     "start_time": "2023-09-06T16:02:49.466275",
     "status": "completed"
    },
    "tags": []
   },
   "outputs": [],
   "source": [
    "df['production_companies'] = df['production_companies'].fillna('[]').apply(ast.literal_eval)\n",
    "df['production_companies'] = df['production_companies'].apply(lambda x: [i['name'] for i in x] if isinstance(x, list) else [])"
   ]
  },
  {
   "cell_type": "code",
   "execution_count": 28,
   "id": "01dd03bb",
   "metadata": {
    "execution": {
     "iopub.execute_input": "2023-09-06T16:02:49.843927Z",
     "iopub.status.busy": "2023-09-06T16:02:49.843528Z",
     "iopub.status.idle": "2023-09-06T16:02:49.854833Z",
     "shell.execute_reply": "2023-09-06T16:02:49.853664Z"
    },
    "papermill": {
     "duration": 0.037961,
     "end_time": "2023-09-06T16:02:49.857181",
     "exception": false,
     "start_time": "2023-09-06T16:02:49.819220",
     "status": "completed"
    },
    "tags": []
   },
   "outputs": [],
   "source": [
    "df['production_companies'] = df['production_companies'].apply(lambda x: len(x))"
   ]
  },
  {
   "cell_type": "code",
   "execution_count": 29,
   "id": "d499c835",
   "metadata": {
    "execution": {
     "iopub.execute_input": "2023-09-06T16:02:49.905234Z",
     "iopub.status.busy": "2023-09-06T16:02:49.904832Z",
     "iopub.status.idle": "2023-09-06T16:02:49.913613Z",
     "shell.execute_reply": "2023-09-06T16:02:49.912600Z"
    },
    "papermill": {
     "duration": 0.035265,
     "end_time": "2023-09-06T16:02:49.915895",
     "exception": false,
     "start_time": "2023-09-06T16:02:49.880630",
     "status": "completed"
    },
    "tags": []
   },
   "outputs": [],
   "source": [
    "lang_df = pd.DataFrame(df['original_language'].value_counts())\n",
    "lang_df['language'] = lang_df.index\n",
    "lang_df.columns = ['number', 'language']"
   ]
  },
  {
   "cell_type": "code",
   "execution_count": 30,
   "id": "289fa35b",
   "metadata": {
    "execution": {
     "iopub.execute_input": "2023-09-06T16:02:49.964506Z",
     "iopub.status.busy": "2023-09-06T16:02:49.963988Z",
     "iopub.status.idle": "2023-09-06T16:02:50.645501Z",
     "shell.execute_reply": "2023-09-06T16:02:50.644350Z"
    },
    "papermill": {
     "duration": 0.709629,
     "end_time": "2023-09-06T16:02:50.648646",
     "exception": false,
     "start_time": "2023-09-06T16:02:49.939017",
     "status": "completed"
    },
    "tags": []
   },
   "outputs": [
    {
     "data": {
      "image/png": "[encoded data removed]",
      "text/plain": [
       "<Figure size 1500x800 with 1 Axes>"
      ]
     },
     "metadata": {},
     "output_type": "display_data"
    }
   ],
   "source": [
    "fig, ax = plt.subplots()\n",
    "fig.set_figheight(8)\n",
    "fig.set_figwidth(15)\n",
    "ax.bar(lang_df.language, lang_df.number);\n",
    "ax.set(title=\"Bảng số lượng bộ phim sử dụng 1 ngôn ngữ\", ylabel=\"Số lượng\", xlabel=\"Tên quốc gia\");"
   ]
  },
  {
   "cell_type": "code",
   "execution_count": 31,
   "id": "721c9e4a",
   "metadata": {
    "execution": {
     "iopub.execute_input": "2023-09-06T16:02:50.698951Z",
     "iopub.status.busy": "2023-09-06T16:02:50.698574Z",
     "iopub.status.idle": "2023-09-06T16:02:50.709114Z",
     "shell.execute_reply": "2023-09-06T16:02:50.707927Z"
    },
    "papermill": {
     "duration": 0.038382,
     "end_time": "2023-09-06T16:02:50.711641",
     "exception": false,
     "start_time": "2023-09-06T16:02:50.673259",
     "status": "completed"
    },
    "tags": []
   },
   "outputs": [],
   "source": [
    "df['lang_english'] = df['original_language'].apply(lambda x: 1 if x=='en' else 0)"
   ]
  },
  {
   "cell_type": "code",
   "execution_count": 32,
   "id": "3dddb3a1",
   "metadata": {
    "execution": {
     "iopub.execute_input": "2023-09-06T16:02:50.761245Z",
     "iopub.status.busy": "2023-09-06T16:02:50.760878Z",
     "iopub.status.idle": "2023-09-06T16:02:50.771190Z",
     "shell.execute_reply": "2023-09-06T16:02:50.769982Z"
    },
    "papermill": {
     "duration": 0.038173,
     "end_time": "2023-09-06T16:02:50.773814",
     "exception": false,
     "start_time": "2023-09-06T16:02:50.735641",
     "status": "completed"
    },
    "tags": []
   },
   "outputs": [],
   "source": [
    "df = df.drop(['original_language'], axis=1)"
   ]
  },
  {
   "cell_type": "code",
   "execution_count": 33,
   "id": "4bc097f7",
   "metadata": {
    "execution": {
     "iopub.execute_input": "2023-09-06T16:02:50.823616Z",
     "iopub.status.busy": "2023-09-06T16:02:50.823198Z",
     "iopub.status.idle": "2023-09-06T16:02:50.842134Z",
     "shell.execute_reply": "2023-09-06T16:02:50.840791Z"
    },
    "papermill": {
     "duration": 0.046654,
     "end_time": "2023-09-06T16:02:50.844710",
     "exception": false,
     "start_time": "2023-09-06T16:02:50.798056",
     "status": "completed"
    },
    "tags": []
   },
   "outputs": [
    {
     "name": "stdout",
     "output_type": "stream",
     "text": [
      "<class 'pandas.core.frame.DataFrame'>\n",
      "Index: 5381 entries, 0 to 45422\n",
      "Data columns (total 14 columns):\n",
      " #   Column                Non-Null Count  Dtype  \n",
      "---  ------                --------------  -----  \n",
      " 0   budget                5381 non-null   float64\n",
      " 1   genres                5381 non-null   object \n",
      " 2   homepage              1915 non-null   object \n",
      " 3   popularity            5381 non-null   object \n",
      " 4   production_companies  5381 non-null   int64  \n",
      " 5   production_countries  5381 non-null   int64  \n",
      " 6   release_date          5381 non-null   object \n",
      " 7   revenue               5381 non-null   float64\n",
      " 8   runtime               5380 non-null   float64\n",
      " 9   spoken_languages      5381 non-null   object \n",
      " 10  status                5381 non-null   object \n",
      " 11  vote_average          5381 non-null   float64\n",
      " 12  vote_count            5381 non-null   float64\n",
      " 13  lang_english          5381 non-null   int64  \n",
      "dtypes: float64(5), int64(3), object(6)\n",
      "memory usage: 630.6+ KB\n"
     ]
    }
   ],
   "source": [
    "df.info()"
   ]
  },
  {
   "cell_type": "code",
   "execution_count": 34,
   "id": "6bc44e50",
   "metadata": {
    "execution": {
     "iopub.execute_input": "2023-09-06T16:02:50.893802Z",
     "iopub.status.busy": "2023-09-06T16:02:50.893389Z",
     "iopub.status.idle": "2023-09-06T16:02:50.900207Z",
     "shell.execute_reply": "2023-09-06T16:02:50.899381Z"
    },
    "papermill": {
     "duration": 0.03409,
     "end_time": "2023-09-06T16:02:50.902531",
     "exception": false,
     "start_time": "2023-09-06T16:02:50.868441",
     "status": "completed"
    },
    "tags": []
   },
   "outputs": [],
   "source": [
    "df['homepage'] = df['homepage'].fillna(0)"
   ]
  },
  {
   "cell_type": "code",
   "execution_count": 35,
   "id": "e411e3c1",
   "metadata": {
    "execution": {
     "iopub.execute_input": "2023-09-06T16:02:50.952639Z",
     "iopub.status.busy": "2023-09-06T16:02:50.952225Z",
     "iopub.status.idle": "2023-09-06T16:02:50.962454Z",
     "shell.execute_reply": "2023-09-06T16:02:50.961242Z"
    },
    "papermill": {
     "duration": 0.037848,
     "end_time": "2023-09-06T16:02:50.964866",
     "exception": false,
     "start_time": "2023-09-06T16:02:50.927018",
     "status": "completed"
    },
    "tags": []
   },
   "outputs": [],
   "source": [
    "df['homepage'] = df['homepage'].apply(lambda x: 1 if x != 0 else 0)"
   ]
  },
  {
   "cell_type": "code",
   "execution_count": 36,
   "id": "97453f14",
   "metadata": {
    "execution": {
     "iopub.execute_input": "2023-09-06T16:02:51.017230Z",
     "iopub.status.busy": "2023-09-06T16:02:51.016866Z",
     "iopub.status.idle": "2023-09-06T16:02:51.024615Z",
     "shell.execute_reply": "2023-09-06T16:02:51.023824Z"
    },
    "papermill": {
     "duration": 0.035331,
     "end_time": "2023-09-06T16:02:51.026801",
     "exception": false,
     "start_time": "2023-09-06T16:02:50.991470",
     "status": "completed"
    },
    "tags": []
   },
   "outputs": [
    {
     "data": {
      "text/plain": [
       "homepage\n",
       "0    3466\n",
       "1    1915\n",
       "Name: count, dtype: int64"
      ]
     },
     "execution_count": 36,
     "metadata": {},
     "output_type": "execute_result"
    }
   ],
   "source": [
    "df['homepage'].value_counts()"
   ]
  },
  {
   "cell_type": "code",
   "execution_count": 37,
   "id": "60d652aa",
   "metadata": {
    "execution": {
     "iopub.execute_input": "2023-09-06T16:02:51.077647Z",
     "iopub.status.busy": "2023-09-06T16:02:51.076420Z",
     "iopub.status.idle": "2023-09-06T16:02:51.086435Z",
     "shell.execute_reply": "2023-09-06T16:02:51.085399Z"
    },
    "papermill": {
     "duration": 0.037655,
     "end_time": "2023-09-06T16:02:51.088641",
     "exception": false,
     "start_time": "2023-09-06T16:02:51.050986",
     "status": "completed"
    },
    "tags": []
   },
   "outputs": [
    {
     "data": {
      "text/plain": [
       "status\n",
       "Released           5377\n",
       "Rumored               2\n",
       "Post Production       2\n",
       "Name: count, dtype: int64"
      ]
     },
     "execution_count": 37,
     "metadata": {},
     "output_type": "execute_result"
    }
   ],
   "source": [
    "df['status'].value_counts()"
   ]
  },
  {
   "cell_type": "code",
   "execution_count": 38,
   "id": "56eb77c0",
   "metadata": {
    "execution": {
     "iopub.execute_input": "2023-09-06T16:02:51.138720Z",
     "iopub.status.busy": "2023-09-06T16:02:51.138324Z",
     "iopub.status.idle": "2023-09-06T16:02:51.145735Z",
     "shell.execute_reply": "2023-09-06T16:02:51.144498Z"
    },
    "papermill": {
     "duration": 0.035608,
     "end_time": "2023-09-06T16:02:51.148355",
     "exception": false,
     "start_time": "2023-09-06T16:02:51.112747",
     "status": "completed"
    },
    "tags": []
   },
   "outputs": [],
   "source": [
    "df = df.drop(['status'], axis=1)"
   ]
  },
  {
   "cell_type": "code",
   "execution_count": 39,
   "id": "54543bfd",
   "metadata": {
    "execution": {
     "iopub.execute_input": "2023-09-06T16:02:51.198908Z",
     "iopub.status.busy": "2023-09-06T16:02:51.198521Z",
     "iopub.status.idle": "2023-09-06T16:02:51.365681Z",
     "shell.execute_reply": "2023-09-06T16:02:51.364639Z"
    },
    "papermill": {
     "duration": 0.195495,
     "end_time": "2023-09-06T16:02:51.368529",
     "exception": false,
     "start_time": "2023-09-06T16:02:51.173034",
     "status": "completed"
    },
    "tags": []
   },
   "outputs": [],
   "source": [
    "df['spoken_languages'] = df['spoken_languages'].fillna('[]').apply(ast.literal_eval).apply(lambda x: len(x) if isinstance(x, list) else np.nan)"
   ]
  },
  {
   "cell_type": "code",
   "execution_count": 40,
   "id": "c08502bc",
   "metadata": {
    "execution": {
     "iopub.execute_input": "2023-09-06T16:02:51.418604Z",
     "iopub.status.busy": "2023-09-06T16:02:51.418180Z",
     "iopub.status.idle": "2023-09-06T16:02:51.427713Z",
     "shell.execute_reply": "2023-09-06T16:02:51.426609Z"
    },
    "papermill": {
     "duration": 0.037395,
     "end_time": "2023-09-06T16:02:51.430172",
     "exception": false,
     "start_time": "2023-09-06T16:02:51.392777",
     "status": "completed"
    },
    "tags": []
   },
   "outputs": [
    {
     "data": {
      "text/plain": [
       "spoken_languages\n",
       "1    3742\n",
       "2    1002\n",
       "3     378\n",
       "4     139\n",
       "5      64\n",
       "0      23\n",
       "6      22\n",
       "7       5\n",
       "8       3\n",
       "9       3\n",
       "Name: count, dtype: int64"
      ]
     },
     "execution_count": 40,
     "metadata": {},
     "output_type": "execute_result"
    }
   ],
   "source": [
    "df['spoken_languages'].value_counts()"
   ]
  },
  {
   "cell_type": "code",
   "execution_count": 41,
   "id": "84a1a21b",
   "metadata": {
    "execution": {
     "iopub.execute_input": "2023-09-06T16:02:51.481157Z",
     "iopub.status.busy": "2023-09-06T16:02:51.480801Z",
     "iopub.status.idle": "2023-09-06T16:02:53.012159Z",
     "shell.execute_reply": "2023-09-06T16:02:53.011273Z"
    },
    "papermill": {
     "duration": 1.560235,
     "end_time": "2023-09-06T16:02:53.015078",
     "exception": false,
     "start_time": "2023-09-06T16:02:51.454843",
     "status": "completed"
    },
    "tags": []
   },
   "outputs": [
    {
     "data": {
      "text/plain": [
       "<seaborn.axisgrid.JointGrid at 0x7bb39d7531c0>"
      ]
     },
     "execution_count": 41,
     "metadata": {},
     "output_type": "execute_result"
    },
    {
     "data": {
      "image/png": "[encoded data removed]",
      "text/plain": [
       "<Figure size 600x600 with 3 Axes>"
      ]
     },
     "metadata": {},
     "output_type": "display_data"
    }
   ],
   "source": [
    "sns.jointplot(x=\"spoken_languages\", y=\"revenue\", data=df, color=\"m\")"
   ]
  },
  {
   "cell_type": "code",
   "execution_count": 42,
   "id": "a18be58e",
   "metadata": {
    "execution": {
     "iopub.execute_input": "2023-09-06T16:02:53.068967Z",
     "iopub.status.busy": "2023-09-06T16:02:53.068561Z",
     "iopub.status.idle": "2023-09-06T16:02:53.319000Z",
     "shell.execute_reply": "2023-09-06T16:02:53.317798Z"
    },
    "papermill": {
     "duration": 0.27993,
     "end_time": "2023-09-06T16:02:53.321870",
     "exception": false,
     "start_time": "2023-09-06T16:02:53.041940",
     "status": "completed"
    },
    "tags": []
   },
   "outputs": [],
   "source": [
    "df['genres'] = df['genres'].fillna('[]').apply(ast.literal_eval).apply(lambda x: [i['name'] for i in x] if isinstance(x, list) else [])"
   ]
  },
  {
   "cell_type": "code",
   "execution_count": 43,
   "id": "fe1d839b",
   "metadata": {
    "execution": {
     "iopub.execute_input": "2023-09-06T16:02:53.375698Z",
     "iopub.status.busy": "2023-09-06T16:02:53.375267Z",
     "iopub.status.idle": "2023-09-06T16:02:53.386859Z",
     "shell.execute_reply": "2023-09-06T16:02:53.385827Z"
    },
    "papermill": {
     "duration": 0.040622,
     "end_time": "2023-09-06T16:02:53.389256",
     "exception": false,
     "start_time": "2023-09-06T16:02:53.348634",
     "status": "completed"
    },
    "tags": []
   },
   "outputs": [],
   "source": [
    "df['genres'] = df['genres'].apply(lambda x: len(x))"
   ]
  },
  {
   "cell_type": "code",
   "execution_count": 44,
   "id": "6e572b63",
   "metadata": {
    "execution": {
     "iopub.execute_input": "2023-09-06T16:02:53.442225Z",
     "iopub.status.busy": "2023-09-06T16:02:53.441808Z",
     "iopub.status.idle": "2023-09-06T16:02:53.451206Z",
     "shell.execute_reply": "2023-09-06T16:02:53.450022Z"
    },
    "papermill": {
     "duration": 0.038294,
     "end_time": "2023-09-06T16:02:53.453683",
     "exception": false,
     "start_time": "2023-09-06T16:02:53.415389",
     "status": "completed"
    },
    "tags": []
   },
   "outputs": [
    {
     "data": {
      "text/plain": [
       "genres\n",
       "3    1743\n",
       "2    1622\n",
       "1     939\n",
       "4     779\n",
       "5     241\n",
       "6      41\n",
       "0      12\n",
       "7       3\n",
       "8       1\n",
       "Name: count, dtype: int64"
      ]
     },
     "execution_count": 44,
     "metadata": {},
     "output_type": "execute_result"
    }
   ],
   "source": [
    "df['genres'].value_counts()"
   ]
  },
  {
   "cell_type": "code",
   "execution_count": 45,
   "id": "cdb1f2dd",
   "metadata": {
    "execution": {
     "iopub.execute_input": "2023-09-06T16:02:53.506140Z",
     "iopub.status.busy": "2023-09-06T16:02:53.505751Z",
     "iopub.status.idle": "2023-09-06T16:02:54.961658Z",
     "shell.execute_reply": "2023-09-06T16:02:54.960528Z"
    },
    "papermill": {
     "duration": 1.485332,
     "end_time": "2023-09-06T16:02:54.964152",
     "exception": false,
     "start_time": "2023-09-06T16:02:53.478820",
     "status": "completed"
    },
    "tags": []
   },
   "outputs": [
    {
     "data": {
      "text/plain": [
       "<seaborn.axisgrid.JointGrid at 0x7bb39d7525f0>"
      ]
     },
     "execution_count": 45,
     "metadata": {},
     "output_type": "execute_result"
    },
    {
     "data": {
      "image/png": "[encoded data removed]",
      "text/plain": [
       "<Figure size 600x600 with 3 Axes>"
      ]
     },
     "metadata": {},
     "output_type": "display_data"
    }
   ],
   "source": [
    "sns.jointplot(x=\"genres\", y=\"revenue\", data=df, color=\"m\")"
   ]
  },
  {
   "cell_type": "code",
   "execution_count": 46,
   "id": "7f82783c",
   "metadata": {
    "execution": {
     "iopub.execute_input": "2023-09-06T16:02:55.020039Z",
     "iopub.status.busy": "2023-09-06T16:02:55.019651Z",
     "iopub.status.idle": "2023-09-06T16:02:55.188367Z",
     "shell.execute_reply": "2023-09-06T16:02:55.187115Z"
    },
    "papermill": {
     "duration": 0.199688,
     "end_time": "2023-09-06T16:02:55.191534",
     "exception": false,
     "start_time": "2023-09-06T16:02:54.991846",
     "status": "completed"
    },
    "tags": []
   },
   "outputs": [],
   "source": [
    "df['year'] = pd.to_datetime(df['release_date'], errors='coerce').apply(lambda x: str(x).split('-')[0] if x != np.nan else np.nan)"
   ]
  },
  {
   "cell_type": "code",
   "execution_count": 47,
   "id": "464377af",
   "metadata": {
    "execution": {
     "iopub.execute_input": "2023-09-06T16:02:55.246246Z",
     "iopub.status.busy": "2023-09-06T16:02:55.245851Z",
     "iopub.status.idle": "2023-09-06T16:02:55.251728Z",
     "shell.execute_reply": "2023-09-06T16:02:55.250476Z"
    },
    "papermill": {
     "duration": 0.036707,
     "end_time": "2023-09-06T16:02:55.254385",
     "exception": false,
     "start_time": "2023-09-06T16:02:55.217678",
     "status": "completed"
    },
    "tags": []
   },
   "outputs": [],
   "source": [
    "# function to change type to float\n",
    "def convert_to_float(x):\n",
    "    try:\n",
    "        return float(x)\n",
    "    except:\n",
    "        return np.nan"
   ]
  },
  {
   "cell_type": "code",
   "execution_count": 48,
   "id": "9be0d216",
   "metadata": {
    "execution": {
     "iopub.execute_input": "2023-09-06T16:02:55.309325Z",
     "iopub.status.busy": "2023-09-06T16:02:55.308934Z",
     "iopub.status.idle": "2023-09-06T16:02:55.318339Z",
     "shell.execute_reply": "2023-09-06T16:02:55.317123Z"
    },
    "papermill": {
     "duration": 0.03961,
     "end_time": "2023-09-06T16:02:55.320740",
     "exception": false,
     "start_time": "2023-09-06T16:02:55.281130",
     "status": "completed"
    },
    "tags": []
   },
   "outputs": [],
   "source": [
    "df['year'] = df['year'].apply(convert_to_float).astype('float')"
   ]
  },
  {
   "cell_type": "code",
   "execution_count": 49,
   "id": "717735a0",
   "metadata": {
    "execution": {
     "iopub.execute_input": "2023-09-06T16:02:55.375764Z",
     "iopub.status.busy": "2023-09-06T16:02:55.374563Z",
     "iopub.status.idle": "2023-09-06T16:02:55.381470Z",
     "shell.execute_reply": "2023-09-06T16:02:55.380369Z"
    },
    "papermill": {
     "duration": 0.037025,
     "end_time": "2023-09-06T16:02:55.384184",
     "exception": false,
     "start_time": "2023-09-06T16:02:55.347159",
     "status": "completed"
    },
    "tags": []
   },
   "outputs": [],
   "source": [
    "# function take month\n",
    "months = [1, 2, 3, 4, 5, 6, 7, 8, 9, 10, 11, 12]\n",
    "def get_month(x):\n",
    "    try:\n",
    "        return months[int(str(x).split('-')[1]) - 1]\n",
    "    except:\n",
    "        return np.nan"
   ]
  },
  {
   "cell_type": "code",
   "execution_count": 50,
   "id": "d66f5cf7",
   "metadata": {
    "execution": {
     "iopub.execute_input": "2023-09-06T16:02:55.439501Z",
     "iopub.status.busy": "2023-09-06T16:02:55.439092Z",
     "iopub.status.idle": "2023-09-06T16:02:55.454356Z",
     "shell.execute_reply": "2023-09-06T16:02:55.453141Z"
    },
    "papermill": {
     "duration": 0.045761,
     "end_time": "2023-09-06T16:02:55.456847",
     "exception": false,
     "start_time": "2023-09-06T16:02:55.411086",
     "status": "completed"
    },
    "tags": []
   },
   "outputs": [],
   "source": [
    "df['month'] = df['release_date'].apply(get_month)"
   ]
  },
  {
   "cell_type": "code",
   "execution_count": 51,
   "id": "71367669",
   "metadata": {
    "execution": {
     "iopub.execute_input": "2023-09-06T16:02:55.511093Z",
     "iopub.status.busy": "2023-09-06T16:02:55.510709Z",
     "iopub.status.idle": "2023-09-06T16:02:55.523723Z",
     "shell.execute_reply": "2023-09-06T16:02:55.522846Z"
    },
    "papermill": {
     "duration": 0.042753,
     "end_time": "2023-09-06T16:02:55.525899",
     "exception": false,
     "start_time": "2023-09-06T16:02:55.483146",
     "status": "completed"
    },
    "tags": []
   },
   "outputs": [],
   "source": [
    "# month of rest\n",
    "# 4,5,6,11 rest month 1 else not\n",
    "# else 0\n",
    "df['holiday'] = df['month'].apply(lambda x: 1 if x in [4, 5, 6, 10, 11, 12] else 0)\n",
    "#df = df.drop('month', axis=1)\n",
    "df = df.drop('release_date', axis=1)"
   ]
  },
  {
   "cell_type": "code",
   "execution_count": 52,
   "id": "a1da83cf",
   "metadata": {
    "execution": {
     "iopub.execute_input": "2023-09-06T16:02:55.580027Z",
     "iopub.status.busy": "2023-09-06T16:02:55.579621Z",
     "iopub.status.idle": "2023-09-06T16:02:56.914615Z",
     "shell.execute_reply": "2023-09-06T16:02:56.913390Z"
    },
    "papermill": {
     "duration": 1.365626,
     "end_time": "2023-09-06T16:02:56.917344",
     "exception": false,
     "start_time": "2023-09-06T16:02:55.551718",
     "status": "completed"
    },
    "tags": []
   },
   "outputs": [
    {
     "data": {
      "text/plain": [
       "<seaborn.axisgrid.JointGrid at 0x7bb39b8ffaf0>"
      ]
     },
     "execution_count": 52,
     "metadata": {},
     "output_type": "execute_result"
    },
    {
     "data": {
      "image/png": "[encoded data removed]",
      "text/plain": [
       "<Figure size 600x600 with 3 Axes>"
      ]
     },
     "metadata": {},
     "output_type": "display_data"
    }
   ],
   "source": [
    "sns.jointplot(x=\"month\", y=\"revenue\", data=df, color=\"m\")"
   ]
  },
  {
   "cell_type": "code",
   "execution_count": 53,
   "id": "4e065508",
   "metadata": {
    "execution": {
     "iopub.execute_input": "2023-09-06T16:02:56.973804Z",
     "iopub.status.busy": "2023-09-06T16:02:56.973390Z",
     "iopub.status.idle": "2023-09-06T16:02:56.984647Z",
     "shell.execute_reply": "2023-09-06T16:02:56.983379Z"
    },
    "papermill": {
     "duration": 0.042634,
     "end_time": "2023-09-06T16:02:56.987054",
     "exception": false,
     "start_time": "2023-09-06T16:02:56.944420",
     "status": "completed"
    },
    "tags": []
   },
   "outputs": [
    {
     "data": {
      "text/plain": [
       "holiday\n",
       "1    2743\n",
       "0    2638\n",
       "Name: count, dtype: int64"
      ]
     },
     "execution_count": 53,
     "metadata": {},
     "output_type": "execute_result"
    }
   ],
   "source": [
    "df = df.drop('month', axis=1)\n",
    "df['holiday'].value_counts()"
   ]
  },
  {
   "cell_type": "code",
   "execution_count": 54,
   "id": "93b49675",
   "metadata": {
    "execution": {
     "iopub.execute_input": "2023-09-06T16:02:57.045813Z",
     "iopub.status.busy": "2023-09-06T16:02:57.044649Z",
     "iopub.status.idle": "2023-09-06T16:02:57.053798Z",
     "shell.execute_reply": "2023-09-06T16:02:57.052694Z"
    },
    "papermill": {
     "duration": 0.040546,
     "end_time": "2023-09-06T16:02:57.056594",
     "exception": false,
     "start_time": "2023-09-06T16:02:57.016048",
     "status": "completed"
    },
    "tags": []
   },
   "outputs": [
    {
     "data": {
      "text/plain": [
       "1"
      ]
     },
     "execution_count": 54,
     "metadata": {},
     "output_type": "execute_result"
    }
   ],
   "source": [
    "df.runtime.isnull().sum() "
   ]
  },
  {
   "cell_type": "code",
   "execution_count": 55,
   "id": "296246ab",
   "metadata": {
    "execution": {
     "iopub.execute_input": "2023-09-06T16:02:57.114005Z",
     "iopub.status.busy": "2023-09-06T16:02:57.113154Z",
     "iopub.status.idle": "2023-09-06T16:02:57.120453Z",
     "shell.execute_reply": "2023-09-06T16:02:57.119188Z"
    },
    "papermill": {
     "duration": 0.038469,
     "end_time": "2023-09-06T16:02:57.122867",
     "exception": false,
     "start_time": "2023-09-06T16:02:57.084398",
     "status": "completed"
    },
    "tags": []
   },
   "outputs": [],
   "source": [
    "df['runtime'] = df['runtime'].fillna(df['runtime'].mean())"
   ]
  },
  {
   "cell_type": "code",
   "execution_count": 56,
   "id": "59321e47",
   "metadata": {
    "execution": {
     "iopub.execute_input": "2023-09-06T16:02:57.179350Z",
     "iopub.status.busy": "2023-09-06T16:02:57.178931Z",
     "iopub.status.idle": "2023-09-06T16:02:57.189418Z",
     "shell.execute_reply": "2023-09-06T16:02:57.188073Z"
    },
    "papermill": {
     "duration": 0.041656,
     "end_time": "2023-09-06T16:02:57.192163",
     "exception": false,
     "start_time": "2023-09-06T16:02:57.150507",
     "status": "completed"
    },
    "tags": []
   },
   "outputs": [],
   "source": [
    "df['popularity'] = df['popularity'].apply(convert_to_float).astype('float')"
   ]
  },
  {
   "cell_type": "code",
   "execution_count": 57,
   "id": "822045d3",
   "metadata": {
    "execution": {
     "iopub.execute_input": "2023-09-06T16:02:57.250190Z",
     "iopub.status.busy": "2023-09-06T16:02:57.249175Z",
     "iopub.status.idle": "2023-09-06T16:02:57.257662Z",
     "shell.execute_reply": "2023-09-06T16:02:57.256492Z"
    },
    "papermill": {
     "duration": 0.040514,
     "end_time": "2023-09-06T16:02:57.260090",
     "exception": false,
     "start_time": "2023-09-06T16:02:57.219576",
     "status": "completed"
    },
    "tags": []
   },
   "outputs": [
    {
     "data": {
      "text/plain": [
       "0"
      ]
     },
     "execution_count": 57,
     "metadata": {},
     "output_type": "execute_result"
    }
   ],
   "source": [
    "df.vote_average.isnull().sum() "
   ]
  },
  {
   "cell_type": "code",
   "execution_count": 58,
   "id": "50875a07",
   "metadata": {
    "execution": {
     "iopub.execute_input": "2023-09-06T16:02:57.317641Z",
     "iopub.status.busy": "2023-09-06T16:02:57.317206Z",
     "iopub.status.idle": "2023-09-06T16:02:57.325512Z",
     "shell.execute_reply": "2023-09-06T16:02:57.324358Z"
    },
    "papermill": {
     "duration": 0.040316,
     "end_time": "2023-09-06T16:02:57.328069",
     "exception": false,
     "start_time": "2023-09-06T16:02:57.287753",
     "status": "completed"
    },
    "tags": []
   },
   "outputs": [
    {
     "data": {
      "text/plain": [
       "0"
      ]
     },
     "execution_count": 58,
     "metadata": {},
     "output_type": "execute_result"
    }
   ],
   "source": [
    "df.vote_count.isnull().sum() "
   ]
  },
  {
   "cell_type": "code",
   "execution_count": 59,
   "id": "69638efb",
   "metadata": {
    "execution": {
     "iopub.execute_input": "2023-09-06T16:02:57.386213Z",
     "iopub.status.busy": "2023-09-06T16:02:57.385780Z",
     "iopub.status.idle": "2023-09-06T16:02:57.402791Z",
     "shell.execute_reply": "2023-09-06T16:02:57.400980Z"
    },
    "papermill": {
     "duration": 0.048744,
     "end_time": "2023-09-06T16:02:57.405484",
     "exception": false,
     "start_time": "2023-09-06T16:02:57.356740",
     "status": "completed"
    },
    "tags": []
   },
   "outputs": [
    {
     "name": "stdout",
     "output_type": "stream",
     "text": [
      "<class 'pandas.core.frame.DataFrame'>\n",
      "Index: 5381 entries, 0 to 45422\n",
      "Data columns (total 14 columns):\n",
      " #   Column                Non-Null Count  Dtype  \n",
      "---  ------                --------------  -----  \n",
      " 0   budget                5381 non-null   float64\n",
      " 1   genres                5381 non-null   int64  \n",
      " 2   homepage              5381 non-null   int64  \n",
      " 3   popularity            5381 non-null   float64\n",
      " 4   production_companies  5381 non-null   int64  \n",
      " 5   production_countries  5381 non-null   int64  \n",
      " 6   revenue               5381 non-null   float64\n",
      " 7   runtime               5381 non-null   float64\n",
      " 8   spoken_languages      5381 non-null   int64  \n",
      " 9   vote_average          5381 non-null   float64\n",
      " 10  vote_count            5381 non-null   float64\n",
      " 11  lang_english          5381 non-null   int64  \n",
      " 12  year                  5381 non-null   float64\n",
      " 13  holiday               5381 non-null   int64  \n",
      "dtypes: float64(7), int64(7)\n",
      "memory usage: 630.6 KB\n"
     ]
    }
   ],
   "source": [
    "df.info()"
   ]
  },
  {
   "cell_type": "code",
   "execution_count": 60,
   "id": "afea8aa4",
   "metadata": {
    "execution": {
     "iopub.execute_input": "2023-09-06T16:02:57.463722Z",
     "iopub.status.busy": "2023-09-06T16:02:57.463331Z",
     "iopub.status.idle": "2023-09-06T16:02:57.471173Z",
     "shell.execute_reply": "2023-09-06T16:02:57.469921Z"
    },
    "papermill": {
     "duration": 0.039936,
     "end_time": "2023-09-06T16:02:57.473951",
     "exception": false,
     "start_time": "2023-09-06T16:02:57.434015",
     "status": "completed"
    },
    "tags": []
   },
   "outputs": [],
   "source": [
    "df1 = df[df.revenue < 1500000000]"
   ]
  },
  {
   "cell_type": "code",
   "execution_count": 61,
   "id": "0076a0a3",
   "metadata": {
    "execution": {
     "iopub.execute_input": "2023-09-06T16:02:57.531930Z",
     "iopub.status.busy": "2023-09-06T16:02:57.530835Z",
     "iopub.status.idle": "2023-09-06T16:02:58.797486Z",
     "shell.execute_reply": "2023-09-06T16:02:58.796248Z"
    },
    "papermill": {
     "duration": 1.298484,
     "end_time": "2023-09-06T16:02:58.800024",
     "exception": false,
     "start_time": "2023-09-06T16:02:57.501540",
     "status": "completed"
    },
    "tags": []
   },
   "outputs": [
    {
     "data": {
      "text/plain": [
       "<seaborn.axisgrid.JointGrid at 0x7bb39b9c6620>"
      ]
     },
     "execution_count": 61,
     "metadata": {},
     "output_type": "execute_result"
    },
    {
     "data": {
      "image/png": "[encoded data removed]",
      "text/plain": [
       "<Figure size 600x600 with 3 Axes>"
      ]
     },
     "metadata": {},
     "output_type": "display_data"
    }
   ],
   "source": [
    "sns.jointplot(x=\"genres\", y=\"revenue\", data=df1, color=\"m\")"
   ]
  },
  {
   "cell_type": "code",
   "execution_count": 62,
   "id": "3382fc37",
   "metadata": {
    "execution": {
     "iopub.execute_input": "2023-09-06T16:02:58.859215Z",
     "iopub.status.busy": "2023-09-06T16:02:58.858803Z",
     "iopub.status.idle": "2023-09-06T16:03:00.097185Z",
     "shell.execute_reply": "2023-09-06T16:03:00.096050Z"
    },
    "papermill": {
     "duration": 1.271676,
     "end_time": "2023-09-06T16:03:00.100069",
     "exception": false,
     "start_time": "2023-09-06T16:02:58.828393",
     "status": "completed"
    },
    "tags": []
   },
   "outputs": [
    {
     "data": {
      "text/plain": [
       "<seaborn.axisgrid.JointGrid at 0x7bb39b8aa290>"
      ]
     },
     "execution_count": 62,
     "metadata": {},
     "output_type": "execute_result"
    },
    {
     "data": {
      "image/png": "[encoded data removed]",
      "text/plain": [
       "<Figure size 600x600 with 3 Axes>"
      ]
     },
     "metadata": {},
     "output_type": "display_data"
    }
   ],
   "source": [
    "sns.jointplot(x=\"spoken_languages\", y=\"revenue\", data=df1, color=\"m\")"
   ]
  },
  {
   "cell_type": "code",
   "execution_count": 63,
   "id": "d831b9a0",
   "metadata": {
    "execution": {
     "iopub.execute_input": "2023-09-06T16:03:00.160710Z",
     "iopub.status.busy": "2023-09-06T16:03:00.160285Z",
     "iopub.status.idle": "2023-09-06T16:03:00.168153Z",
     "shell.execute_reply": "2023-09-06T16:03:00.166987Z"
    },
    "papermill": {
     "duration": 0.040951,
     "end_time": "2023-09-06T16:03:00.170472",
     "exception": false,
     "start_time": "2023-09-06T16:03:00.129521",
     "status": "completed"
    },
    "tags": []
   },
   "outputs": [
    {
     "data": {
      "text/plain": [
       "'\\n# Chuyển từ dạng bảng sang array\\n\\nbudget_arr = df.budget.values\\ngenres_arr = df.genres.values \\nhomepage_arr = df.homepage.values \\npopularity_arr = df.popularity.values  \\nproduction_companies_arr = df.production_companies.values \\nproduction_countries_arr = df.production_countries.values\\nrevenue_arr = df.revenue.values\\nruntime_arr = df.runtime.values  \\nspoken_languages_arr = df.spoken_languages.values\\nvote_average_arr = df.vote_average.values \\nvote_count_arr = df.vote_count.values \\nlang_english_arr = df.lang_english.values\\nyear_arr = df.year.values\\nholiday_arr = df.holiday.values\\n'"
      ]
     },
     "execution_count": 63,
     "metadata": {},
     "output_type": "execute_result"
    }
   ],
   "source": [
    "\"\"\"\n",
    "# Chuyển từ dạng bảng sang array\n",
    "\n",
    "budget_arr = df.budget.values\n",
    "genres_arr = df.genres.values \n",
    "homepage_arr = df.homepage.values \n",
    "popularity_arr = df.popularity.values  \n",
    "production_companies_arr = df.production_companies.values \n",
    "production_countries_arr = df.production_countries.values\n",
    "revenue_arr = df.revenue.values\n",
    "runtime_arr = df.runtime.values  \n",
    "spoken_languages_arr = df.spoken_languages.values\n",
    "vote_average_arr = df.vote_average.values \n",
    "vote_count_arr = df.vote_count.values \n",
    "lang_english_arr = df.lang_english.values\n",
    "year_arr = df.year.values\n",
    "holiday_arr = df.holiday.values\n",
    "\"\"\""
   ]
  },
  {
   "cell_type": "code",
   "execution_count": 64,
   "id": "477f1cbe",
   "metadata": {
    "execution": {
     "iopub.execute_input": "2023-09-06T16:03:00.231939Z",
     "iopub.status.busy": "2023-09-06T16:03:00.231319Z",
     "iopub.status.idle": "2023-09-06T16:03:00.237901Z",
     "shell.execute_reply": "2023-09-06T16:03:00.237021Z"
    },
    "papermill": {
     "duration": 0.039666,
     "end_time": "2023-09-06T16:03:00.240119",
     "exception": false,
     "start_time": "2023-09-06T16:03:00.200453",
     "status": "completed"
    },
    "tags": []
   },
   "outputs": [
    {
     "data": {
      "text/plain": [
       "'\\nimport os \\nimport pandas as pd\\n\\ndata_series = {\"budget\" : budget_arr, \"genres\" :genres_arr, \"homepage\": homepage_arr, \"popularity\": popularity_arr, \"production_companies\":production_companies_arr,\\n               \"production_countries\":production_countries_arr, \"runtime\" :runtime_arr, \"spoken_languages\" :spoken_languages_arr, \\n               \"vote_average\" :vote_average_arr, \"vote_count\" :vote_count_arr, \"lang_english\" :lang_english_arr, \\n               \"year\" :year_arr, \"holiday\" :holiday_arr, \"revenue\" :revenue_arr}\\n\\ndf_data = pd.DataFrame(data_series)\\n\\nos.makedirs(\\'./data\\', exist_ok=True)  \\ndf_data.to_excel(\\'./data/data1.xlsx\\')  \\nprint(\\'Save to Excel file successfully.\\')\\n'"
      ]
     },
     "execution_count": 64,
     "metadata": {},
     "output_type": "execute_result"
    }
   ],
   "source": [
    "\"\"\"\n",
    "import os \n",
    "import pandas as pd\n",
    "\n",
    "data_series = {\"budget\" : budget_arr, \"genres\" :genres_arr, \"homepage\": homepage_arr, \"popularity\": popularity_arr, \"production_companies\":production_companies_arr,\n",
    "               \"production_countries\":production_countries_arr, \"runtime\" :runtime_arr, \"spoken_languages\" :spoken_languages_arr, \n",
    "               \"vote_average\" :vote_average_arr, \"vote_count\" :vote_count_arr, \"lang_english\" :lang_english_arr, \n",
    "               \"year\" :year_arr, \"holiday\" :holiday_arr, \"revenue\" :revenue_arr}\n",
    "\n",
    "df_data = pd.DataFrame(data_series)\n",
    "\n",
    "os.makedirs('./data', exist_ok=True)  \n",
    "df_data.to_excel('./data/data1.xlsx')  \n",
    "print('Save to Excel file successfully.')\n",
    "\"\"\""
   ]
  }
 ],
 "kernelspec": {
  "display_name": "Python 3",
  "language": "python",
  "name": "python3"
 },
 "language_info": {
  "codemirror_mode": {
   "name": "ipython",
   "version": 3
  },
  "file_extension": ".py",
  "mimetype": "text/x-python",
  "name": "python",
  "nbconvert_exporter": "python",
  "pygments_lexer": "ipython3",
  "version": "3.6.4"
 },
 "metadata": {
  "kernelspec": {
   "display_name": "Python 3",
   "language": "python",
   "name": "python3"
  },
  "language_info": {
   "codemirror_mode": {
    "name": "ipython",
    "version": 3
   },
   "file_extension": ".py",
   "mimetype": "text/x-python",
   "name": "python",
   "nbconvert_exporter": "python",
   "pygments_lexer": "ipython3",
   "version": "3.10.12"
  },
  "papermill": {
   "default_parameters": {},
   "duration": 21.403505,
   "end_time": "2023-09-06T16:03:01.092704",
   "environment_variables": {},
   "exception": null,
   "input_path": "__notebook__.ipynb",
   "output_path": "__notebook__.ipynb",
   "parameters": {},
   "start_time": "2023-09-06T16:02:39.689199",
   "version": "2.4.0"
  }
 },
 "nbformat": 4,
 "nbformat_minor": 5
}
